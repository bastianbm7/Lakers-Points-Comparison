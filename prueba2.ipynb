{
 "cells": [
  {
   "cell_type": "markdown",
   "id": "61ffc79b-041c-4a47-b44e-cfda20c50533",
   "metadata": {},
   "source": [
    "## Read Libraries"
   ]
  },
  {
   "cell_type": "code",
   "execution_count": 1,
   "id": "5a694b42-e9a4-44d3-906d-631a3efb3497",
   "metadata": {},
   "outputs": [
    {
     "name": "stderr",
     "output_type": "stream",
     "text": [
      "\n",
      "Attaching package: 'dplyr'\n",
      "\n",
      "\n",
      "The following objects are masked from 'package:stats':\n",
      "\n",
      "    filter, lag\n",
      "\n",
      "\n",
      "The following objects are masked from 'package:base':\n",
      "\n",
      "    intersect, setdiff, setequal, union\n",
      "\n",
      "\n",
      "\n",
      "Attaching package: 'gridExtra'\n",
      "\n",
      "\n",
      "The following object is masked from 'package:dplyr':\n",
      "\n",
      "    combine\n",
      "\n",
      "\n",
      "Warning message:\n",
      "\"package 'bfast' was built under R version 4.3.2\"\n",
      "Loading required package: strucchangeRcpp\n",
      "\n",
      "Warning message:\n",
      "\"package 'strucchangeRcpp' was built under R version 4.3.2\"\n",
      "Loading required package: zoo\n",
      "\n",
      "\n",
      "Attaching package: 'zoo'\n",
      "\n",
      "\n",
      "The following objects are masked from 'package:base':\n",
      "\n",
      "    as.Date, as.Date.numeric\n",
      "\n",
      "\n",
      "Loading required package: sandwich\n",
      "\n",
      "Registered S3 method overwritten by 'quantmod':\n",
      "  method            from\n",
      "  as.zoo.data.frame zoo \n",
      "\n"
     ]
    }
   ],
   "source": [
    "library(dplyr)\n",
    "library(tidyr)\n",
    "library(ggplot2)\n",
    "library(gridExtra)\n",
    "library(grid)\n",
    "#library(agricolae)\n",
    "library(bfast)"
   ]
  },
  {
   "cell_type": "markdown",
   "id": "dc2211fd-44ad-461c-ba3a-a872a832eda3",
   "metadata": {},
   "source": [
    "## Read Data"
   ]
  },
  {
   "cell_type": "code",
   "execution_count": 2,
   "id": "5db60c54-3b27-4e64-9f17-6732a5a51822",
   "metadata": {},
   "outputs": [],
   "source": [
    "df2017 <- read.csv('data\\\\NBA_PBP_2017-18.csv')\n",
    "df2018 <- read.csv('data\\\\NBA_PBP_2018-19.csv')\n",
    "df2019 <- read.csv('data\\\\NBA_PBP_2019-20.csv')"
   ]
  },
  {
   "cell_type": "markdown",
   "id": "3248c960-5596-4036-bdd2-23638fd618cf",
   "metadata": {},
   "source": [
    "## Clean Data"
   ]
  },
  {
   "cell_type": "code",
   "execution_count": 3,
   "id": "c5015131-5c8f-4e95-8b34-46e27950a2f3",
   "metadata": {},
   "outputs": [],
   "source": [
    "# This function is used to clean the three df and leave \n",
    "# in a tidy format all data\n",
    "cleanData <- function(df, vars, year){\n",
    "    select_variables <- function(df, vars){\n",
    "    \n",
    "        # This function works to select all the data from lakers \n",
    "        # matchs, selecting by home or visit games.\n",
    "        \n",
    "        # Filter by variables\n",
    "        df <- df[vars]\n",
    "        \n",
    "        # Select just the data from Lakers\n",
    "        df <- df %>% \n",
    "            filter((HomeTeam == 'LAL') | (AwayTeam == 'LAL'))\n",
    "        \n",
    "        # Change values that are empty to NA in HomePlay and AwayPlay\n",
    "        df$HomePlay <- ifelse(df$HomePlay == \"\", NA, df$HomePlay)\n",
    "        df$AwayPlay <- ifelse(df$AwayPlay == \"\", NA, df$AwayPlay)\n",
    "        \n",
    "        # Use data from LAL and not from oppponent team\n",
    "        df <- df[!(df$HomeTeam == \"LAL\" & !is.na(df$AwayPlay)), ]\n",
    "        df <- df[!(df$AwayTeam == \"LAL\" & !is.na(df$HomePlay)), ]\n",
    "        \n",
    "        return (df)\n",
    "    }\n",
    "\n",
    "    make_shotDF <- function(df){\n",
    "        # Change values that are empty to NA in ShotType\n",
    "        df$ShotType <- ifelse(df$ShotType == \"\", NA, df$ShotType)\n",
    "        \n",
    "        # Leave just plays that are shot types\n",
    "        df <- df[complete.cases(df$ShotType), ]\n",
    "        \n",
    "        # Filter shots by make\n",
    "        df <- df %>% filter(ShotOutcome == 'make')\n",
    "        \n",
    "        # Separate ShotType to write the points and type of shot in different columns\n",
    "        df <- separate(df, ShotType, into = c(\"Points\", \"Type\"), sep = \"-pt \")\n",
    "        \n",
    "        return (df)\n",
    "    }\n",
    "    \n",
    "    add_range_timeLeft <- function(df){\n",
    "        # Crear un marco de datos que contenga todos los valores de time_left de 0 a 2880\n",
    "        all_time_left <- data.frame(Time_left = seq(0, 2880))\n",
    "        \n",
    "        # Realizar una unión (join) izquierda entre los datos originales y los valores completos de time_left\n",
    "        result_df <- left_join(all_time_left, df, by = \"Time_left\")\n",
    "        \n",
    "        # Llenar los valores faltantes en Points, ShotDist, Type, y URL\n",
    "        result_df$Points[is.na(result_df$Points)] <- 0\n",
    "        result_df$ShotDist[is.na(result_df$ShotDist)] <- NA\n",
    "        result_df$Type[is.na(result_df$Type)] <- NA\n",
    "        result_df$URL[is.na(result_df$URL)] <- \"/boxscores/201710190LAL.html\"\n",
    "        result_df$Team[is.na(result_df$Team)] <- \"LAL\"\n",
    "        result_df$Year[is.na(result_df$Year)] <- year\n",
    "        return(result_df)\n",
    "        \n",
    "    } \n",
    "    \n",
    "    # Filter by gametype because we are interested in regular games only \n",
    "    df <- df %>% filter(GameType == 'regular')\n",
    "    \n",
    "    # Select data to use\n",
    "    df <- select_variables(df, vars)\n",
    "    \n",
    "    # Leave all the data from Team in a single column\n",
    "    df <- df %>%\n",
    "        mutate(Team = ifelse(df$HomeTeam == \"LAL\", 'LAL', df$AwayTeam)) %>%\n",
    "        select(-HomeTeam, -AwayTeam, -HomePlay, -AwayPlay)\n",
    "    \n",
    "    df <- make_shotDF(df)\n",
    "    \n",
    "    # Make a variable with time left in the match in seconds\n",
    "    df$Time_left <- df$SecLeft * df$Quarter\n",
    "    \n",
    "    # Leave data in correct format\n",
    "    df$Points <- as.integer(df$Points)\n",
    "    \n",
    "    # Delete innecesary columns\n",
    "    df <- df %>% select(-Quarter, -SecLeft, -ShotOutcome)\n",
    "    \n",
    "    # Add year of the data\n",
    "    df$Year <- year\n",
    "    \n",
    "    # Leave df ordered by columns\n",
    "    vars_order <- c('Team', 'Year', 'URL', 'Time_left', 'Type', 'Points', 'ShotDist')\n",
    "    df <- df[vars_order]\n",
    "    \n",
    "    df <- add_range_timeLeft(df)\n",
    "    \n",
    "    return (df)   \n",
    "}"
   ]
  },
  {
   "cell_type": "code",
   "execution_count": 4,
   "id": "a852291c-2044-4ea1-8568-dae7d417145b",
   "metadata": {},
   "outputs": [],
   "source": [
    "vars <- c('URL', 'Quarter', 'HomeTeam', 'AwayTeam', 'SecLeft', 'HomePlay', 'AwayPlay',  'ShotType', 'ShotOutcome', 'ShotDist')\n",
    "\n",
    "df_2017 <- cleanData(df2017, vars, 2017)\n",
    "df_2018 <- cleanData(df2018, vars, 2018)\n",
    "df_2019 <- cleanData(df2019, vars, 2019)"
   ]
  },
  {
   "cell_type": "code",
   "execution_count": 5,
   "id": "446ae25c-0384-490e-ba37-adef9a6d8d21",
   "metadata": {},
   "outputs": [
    {
     "data": {
      "text/html": [
       "<table class=\"dataframe\">\n",
       "<caption>A data.frame: 4569 × 7</caption>\n",
       "<thead>\n",
       "\t<tr><th scope=col>Time_left</th><th scope=col>Team</th><th scope=col>Year</th><th scope=col>URL</th><th scope=col>Type</th><th scope=col>Points</th><th scope=col>ShotDist</th></tr>\n",
       "\t<tr><th scope=col>&lt;int&gt;</th><th scope=col>&lt;chr&gt;</th><th scope=col>&lt;dbl&gt;</th><th scope=col>&lt;chr&gt;</th><th scope=col>&lt;chr&gt;</th><th scope=col>&lt;dbl&gt;</th><th scope=col>&lt;int&gt;</th></tr>\n",
       "</thead>\n",
       "<tbody>\n",
       "\t<tr><td>0</td><td>LAL</td><td>2019</td><td>/boxscores/201910290LAL.html</td><td>layup    </td><td>2</td><td> 0</td></tr>\n",
       "\t<tr><td>0</td><td>LAL</td><td>2019</td><td>/boxscores/201911010DAL.html</td><td>jump shot</td><td>3</td><td>24</td></tr>\n",
       "\t<tr><td>0</td><td>LAL</td><td>2019</td><td>/boxscores/201911030SAS.html</td><td>jump shot</td><td>3</td><td>38</td></tr>\n",
       "\t<tr><td>0</td><td>LAL</td><td>2019</td><td>/boxscores/201911050CHI.html</td><td>jump shot</td><td>2</td><td>20</td></tr>\n",
       "\t<tr><td>0</td><td>LAL</td><td>2019</td><td>/boxscores/201911220OKC.html</td><td>jump shot</td><td>3</td><td>26</td></tr>\n",
       "\t<tr><td>0</td><td>LAL</td><td>2019</td><td>/boxscores/201911230MEM.html</td><td>jump shot</td><td>3</td><td>35</td></tr>\n",
       "\t<tr><td>0</td><td>LAL</td><td>2019</td><td>/boxscores/201911250SAS.html</td><td>jump shot</td><td>3</td><td>25</td></tr>\n",
       "\t<tr><td>0</td><td>LAL</td><td>2019</td><td>/boxscores/201912010LAL.html</td><td>layup    </td><td>2</td><td> 2</td></tr>\n",
       "\t<tr><td>0</td><td>LAL</td><td>2019</td><td>/boxscores/201912040UTA.html</td><td>jump shot</td><td>3</td><td>29</td></tr>\n",
       "\t<tr><td>0</td><td>LAL</td><td>2019</td><td>/boxscores/201912150ATL.html</td><td>jump shot</td><td>2</td><td>14</td></tr>\n",
       "\t<tr><td>0</td><td>LAL</td><td>2019</td><td>/boxscores/201912280POR.html</td><td>jump shot</td><td>3</td><td>22</td></tr>\n",
       "\t<tr><td>0</td><td>LAL</td><td>2019</td><td>/boxscores/202001010LAL.html</td><td>layup    </td><td>2</td><td> 3</td></tr>\n",
       "\t<tr><td>0</td><td>LAL</td><td>2019</td><td>/boxscores/202001130LAL.html</td><td>jump shot</td><td>2</td><td>20</td></tr>\n",
       "\t<tr><td>0</td><td>LAL</td><td>2019</td><td>/boxscores/202001150LAL.html</td><td>jump shot</td><td>3</td><td>25</td></tr>\n",
       "\t<tr><td>0</td><td>LAL</td><td>2019</td><td>/boxscores/202001230BRK.html</td><td>jump shot</td><td>3</td><td>31</td></tr>\n",
       "\t<tr><td>0</td><td>LAL</td><td>2019</td><td>/boxscores/202001250PHI.html</td><td>layup    </td><td>2</td><td> 1</td></tr>\n",
       "\t<tr><td>0</td><td>LAL</td><td>2019</td><td>/boxscores/202002120DEN.html</td><td>layup    </td><td>2</td><td> 2</td></tr>\n",
       "\t<tr><td>0</td><td>LAL</td><td>2019</td><td>/boxscores/202003060LAL.html</td><td>layup    </td><td>2</td><td> 1</td></tr>\n",
       "\t<tr><td>0</td><td>LAL</td><td>2019</td><td>/boxscores/202008100LAL.html</td><td>dunk     </td><td>2</td><td> 1</td></tr>\n",
       "\t<tr><td>0</td><td>LAL</td><td>2019</td><td>/boxscores/202008100LAL.html</td><td>jump shot</td><td>3</td><td>25</td></tr>\n",
       "\t<tr><td>1</td><td>LAL</td><td>2019</td><td>/boxscores/201912220LAL.html</td><td>dunk     </td><td>2</td><td> 1</td></tr>\n",
       "\t<tr><td>1</td><td>LAL</td><td>2019</td><td>/boxscores/201912290LAL.html</td><td>dunk     </td><td>2</td><td> 1</td></tr>\n",
       "\t<tr><td>1</td><td>LAL</td><td>2019</td><td>/boxscores/202008050LAL.html</td><td>layup    </td><td>2</td><td> 1</td></tr>\n",
       "\t<tr><td>2</td><td>LAL</td><td>2019</td><td>/boxscores/201911120PHO.html</td><td>layup    </td><td>2</td><td> 3</td></tr>\n",
       "\t<tr><td>2</td><td>LAL</td><td>2019</td><td>/boxscores/201911190LAL.html</td><td>dunk     </td><td>2</td><td> 1</td></tr>\n",
       "\t<tr><td>2</td><td>LAL</td><td>2019</td><td>/boxscores/202002040LAL.html</td><td>jump shot</td><td>2</td><td>14</td></tr>\n",
       "\t<tr><td>2</td><td>LAL</td><td>2019</td><td>/boxscores/202002230LAL.html</td><td>jump shot</td><td>2</td><td> 4</td></tr>\n",
       "\t<tr><td>3</td><td>LAL</td><td>2019</td><td>/boxscores/201910250LAL.html</td><td>jump shot</td><td>3</td><td>25</td></tr>\n",
       "\t<tr><td>3</td><td>LAL</td><td>2019</td><td>/boxscores/201911190LAL.html</td><td>jump shot</td><td>3</td><td>23</td></tr>\n",
       "\t<tr><td>3</td><td>LAL</td><td>2019</td><td>/boxscores/202001130LAL.html</td><td>jump shot</td><td>3</td><td>27</td></tr>\n",
       "\t<tr><td>⋮</td><td>⋮</td><td>⋮</td><td>⋮</td><td>⋮</td><td>⋮</td><td>⋮</td></tr>\n",
       "\t<tr><td>2851</td><td>LAL</td><td>2019</td><td>/boxscores/201710190LAL.html</td><td>NA</td><td>0</td><td>NA</td></tr>\n",
       "\t<tr><td>2852</td><td>LAL</td><td>2019</td><td>/boxscores/201710190LAL.html</td><td>NA</td><td>0</td><td>NA</td></tr>\n",
       "\t<tr><td>2853</td><td>LAL</td><td>2019</td><td>/boxscores/201710190LAL.html</td><td>NA</td><td>0</td><td>NA</td></tr>\n",
       "\t<tr><td>2854</td><td>LAL</td><td>2019</td><td>/boxscores/201710190LAL.html</td><td>NA</td><td>0</td><td>NA</td></tr>\n",
       "\t<tr><td>2855</td><td>LAL</td><td>2019</td><td>/boxscores/201710190LAL.html</td><td>NA</td><td>0</td><td>NA</td></tr>\n",
       "\t<tr><td>2856</td><td>LAL</td><td>2019</td><td>/boxscores/201710190LAL.html</td><td>NA</td><td>0</td><td>NA</td></tr>\n",
       "\t<tr><td>2857</td><td>LAL</td><td>2019</td><td>/boxscores/201710190LAL.html</td><td>NA</td><td>0</td><td>NA</td></tr>\n",
       "\t<tr><td>2858</td><td>LAL</td><td>2019</td><td>/boxscores/201710190LAL.html</td><td>NA</td><td>0</td><td>NA</td></tr>\n",
       "\t<tr><td>2859</td><td>LAL</td><td>2019</td><td>/boxscores/201710190LAL.html</td><td>NA</td><td>0</td><td>NA</td></tr>\n",
       "\t<tr><td>2860</td><td>LAL</td><td>2019</td><td>/boxscores/201710190LAL.html</td><td>NA</td><td>0</td><td>NA</td></tr>\n",
       "\t<tr><td>2861</td><td>LAL</td><td>2019</td><td>/boxscores/201710190LAL.html</td><td>NA</td><td>0</td><td>NA</td></tr>\n",
       "\t<tr><td>2862</td><td>LAL</td><td>2019</td><td>/boxscores/201710190LAL.html</td><td>NA</td><td>0</td><td>NA</td></tr>\n",
       "\t<tr><td>2863</td><td>LAL</td><td>2019</td><td>/boxscores/201710190LAL.html</td><td>NA</td><td>0</td><td>NA</td></tr>\n",
       "\t<tr><td>2864</td><td>LAL</td><td>2019</td><td>/boxscores/201710190LAL.html</td><td>NA</td><td>0</td><td>NA</td></tr>\n",
       "\t<tr><td>2865</td><td>LAL</td><td>2019</td><td>/boxscores/201710190LAL.html</td><td>NA</td><td>0</td><td>NA</td></tr>\n",
       "\t<tr><td>2866</td><td>LAL</td><td>2019</td><td>/boxscores/201710190LAL.html</td><td>NA</td><td>0</td><td>NA</td></tr>\n",
       "\t<tr><td>2867</td><td>LAL</td><td>2019</td><td>/boxscores/201710190LAL.html</td><td>NA</td><td>0</td><td>NA</td></tr>\n",
       "\t<tr><td>2868</td><td>LAL</td><td>2019</td><td>/boxscores/201710190LAL.html</td><td>NA</td><td>0</td><td>NA</td></tr>\n",
       "\t<tr><td>2869</td><td>LAL</td><td>2019</td><td>/boxscores/201710190LAL.html</td><td>NA</td><td>0</td><td>NA</td></tr>\n",
       "\t<tr><td>2870</td><td>LAL</td><td>2019</td><td>/boxscores/201710190LAL.html</td><td>NA</td><td>0</td><td>NA</td></tr>\n",
       "\t<tr><td>2871</td><td>LAL</td><td>2019</td><td>/boxscores/201710190LAL.html</td><td>NA</td><td>0</td><td>NA</td></tr>\n",
       "\t<tr><td>2872</td><td>LAL</td><td>2019</td><td>/boxscores/201710190LAL.html</td><td>NA</td><td>0</td><td>NA</td></tr>\n",
       "\t<tr><td>2873</td><td>LAL</td><td>2019</td><td>/boxscores/201710190LAL.html</td><td>NA</td><td>0</td><td>NA</td></tr>\n",
       "\t<tr><td>2874</td><td>LAL</td><td>2019</td><td>/boxscores/201710190LAL.html</td><td>NA</td><td>0</td><td>NA</td></tr>\n",
       "\t<tr><td>2875</td><td>LAL</td><td>2019</td><td>/boxscores/201710190LAL.html</td><td>NA</td><td>0</td><td>NA</td></tr>\n",
       "\t<tr><td>2876</td><td>LAL</td><td>2019</td><td>/boxscores/201710190LAL.html</td><td>NA</td><td>0</td><td>NA</td></tr>\n",
       "\t<tr><td>2877</td><td>LAL</td><td>2019</td><td>/boxscores/201710190LAL.html</td><td>NA</td><td>0</td><td>NA</td></tr>\n",
       "\t<tr><td>2878</td><td>LAL</td><td>2019</td><td>/boxscores/201710190LAL.html</td><td>NA</td><td>0</td><td>NA</td></tr>\n",
       "\t<tr><td>2879</td><td>LAL</td><td>2019</td><td>/boxscores/201710190LAL.html</td><td>NA</td><td>0</td><td>NA</td></tr>\n",
       "\t<tr><td>2880</td><td>LAL</td><td>2019</td><td>/boxscores/201710190LAL.html</td><td>NA</td><td>0</td><td>NA</td></tr>\n",
       "</tbody>\n",
       "</table>\n"
      ],
      "text/latex": [
       "A data.frame: 4569 × 7\n",
       "\\begin{tabular}{lllllll}\n",
       " Time\\_left & Team & Year & URL & Type & Points & ShotDist\\\\\n",
       " <int> & <chr> & <dbl> & <chr> & <chr> & <dbl> & <int>\\\\\n",
       "\\hline\n",
       "\t 0 & LAL & 2019 & /boxscores/201910290LAL.html & layup     & 2 &  0\\\\\n",
       "\t 0 & LAL & 2019 & /boxscores/201911010DAL.html & jump shot & 3 & 24\\\\\n",
       "\t 0 & LAL & 2019 & /boxscores/201911030SAS.html & jump shot & 3 & 38\\\\\n",
       "\t 0 & LAL & 2019 & /boxscores/201911050CHI.html & jump shot & 2 & 20\\\\\n",
       "\t 0 & LAL & 2019 & /boxscores/201911220OKC.html & jump shot & 3 & 26\\\\\n",
       "\t 0 & LAL & 2019 & /boxscores/201911230MEM.html & jump shot & 3 & 35\\\\\n",
       "\t 0 & LAL & 2019 & /boxscores/201911250SAS.html & jump shot & 3 & 25\\\\\n",
       "\t 0 & LAL & 2019 & /boxscores/201912010LAL.html & layup     & 2 &  2\\\\\n",
       "\t 0 & LAL & 2019 & /boxscores/201912040UTA.html & jump shot & 3 & 29\\\\\n",
       "\t 0 & LAL & 2019 & /boxscores/201912150ATL.html & jump shot & 2 & 14\\\\\n",
       "\t 0 & LAL & 2019 & /boxscores/201912280POR.html & jump shot & 3 & 22\\\\\n",
       "\t 0 & LAL & 2019 & /boxscores/202001010LAL.html & layup     & 2 &  3\\\\\n",
       "\t 0 & LAL & 2019 & /boxscores/202001130LAL.html & jump shot & 2 & 20\\\\\n",
       "\t 0 & LAL & 2019 & /boxscores/202001150LAL.html & jump shot & 3 & 25\\\\\n",
       "\t 0 & LAL & 2019 & /boxscores/202001230BRK.html & jump shot & 3 & 31\\\\\n",
       "\t 0 & LAL & 2019 & /boxscores/202001250PHI.html & layup     & 2 &  1\\\\\n",
       "\t 0 & LAL & 2019 & /boxscores/202002120DEN.html & layup     & 2 &  2\\\\\n",
       "\t 0 & LAL & 2019 & /boxscores/202003060LAL.html & layup     & 2 &  1\\\\\n",
       "\t 0 & LAL & 2019 & /boxscores/202008100LAL.html & dunk      & 2 &  1\\\\\n",
       "\t 0 & LAL & 2019 & /boxscores/202008100LAL.html & jump shot & 3 & 25\\\\\n",
       "\t 1 & LAL & 2019 & /boxscores/201912220LAL.html & dunk      & 2 &  1\\\\\n",
       "\t 1 & LAL & 2019 & /boxscores/201912290LAL.html & dunk      & 2 &  1\\\\\n",
       "\t 1 & LAL & 2019 & /boxscores/202008050LAL.html & layup     & 2 &  1\\\\\n",
       "\t 2 & LAL & 2019 & /boxscores/201911120PHO.html & layup     & 2 &  3\\\\\n",
       "\t 2 & LAL & 2019 & /boxscores/201911190LAL.html & dunk      & 2 &  1\\\\\n",
       "\t 2 & LAL & 2019 & /boxscores/202002040LAL.html & jump shot & 2 & 14\\\\\n",
       "\t 2 & LAL & 2019 & /boxscores/202002230LAL.html & jump shot & 2 &  4\\\\\n",
       "\t 3 & LAL & 2019 & /boxscores/201910250LAL.html & jump shot & 3 & 25\\\\\n",
       "\t 3 & LAL & 2019 & /boxscores/201911190LAL.html & jump shot & 3 & 23\\\\\n",
       "\t 3 & LAL & 2019 & /boxscores/202001130LAL.html & jump shot & 3 & 27\\\\\n",
       "\t ⋮ & ⋮ & ⋮ & ⋮ & ⋮ & ⋮ & ⋮\\\\\n",
       "\t 2851 & LAL & 2019 & /boxscores/201710190LAL.html & NA & 0 & NA\\\\\n",
       "\t 2852 & LAL & 2019 & /boxscores/201710190LAL.html & NA & 0 & NA\\\\\n",
       "\t 2853 & LAL & 2019 & /boxscores/201710190LAL.html & NA & 0 & NA\\\\\n",
       "\t 2854 & LAL & 2019 & /boxscores/201710190LAL.html & NA & 0 & NA\\\\\n",
       "\t 2855 & LAL & 2019 & /boxscores/201710190LAL.html & NA & 0 & NA\\\\\n",
       "\t 2856 & LAL & 2019 & /boxscores/201710190LAL.html & NA & 0 & NA\\\\\n",
       "\t 2857 & LAL & 2019 & /boxscores/201710190LAL.html & NA & 0 & NA\\\\\n",
       "\t 2858 & LAL & 2019 & /boxscores/201710190LAL.html & NA & 0 & NA\\\\\n",
       "\t 2859 & LAL & 2019 & /boxscores/201710190LAL.html & NA & 0 & NA\\\\\n",
       "\t 2860 & LAL & 2019 & /boxscores/201710190LAL.html & NA & 0 & NA\\\\\n",
       "\t 2861 & LAL & 2019 & /boxscores/201710190LAL.html & NA & 0 & NA\\\\\n",
       "\t 2862 & LAL & 2019 & /boxscores/201710190LAL.html & NA & 0 & NA\\\\\n",
       "\t 2863 & LAL & 2019 & /boxscores/201710190LAL.html & NA & 0 & NA\\\\\n",
       "\t 2864 & LAL & 2019 & /boxscores/201710190LAL.html & NA & 0 & NA\\\\\n",
       "\t 2865 & LAL & 2019 & /boxscores/201710190LAL.html & NA & 0 & NA\\\\\n",
       "\t 2866 & LAL & 2019 & /boxscores/201710190LAL.html & NA & 0 & NA\\\\\n",
       "\t 2867 & LAL & 2019 & /boxscores/201710190LAL.html & NA & 0 & NA\\\\\n",
       "\t 2868 & LAL & 2019 & /boxscores/201710190LAL.html & NA & 0 & NA\\\\\n",
       "\t 2869 & LAL & 2019 & /boxscores/201710190LAL.html & NA & 0 & NA\\\\\n",
       "\t 2870 & LAL & 2019 & /boxscores/201710190LAL.html & NA & 0 & NA\\\\\n",
       "\t 2871 & LAL & 2019 & /boxscores/201710190LAL.html & NA & 0 & NA\\\\\n",
       "\t 2872 & LAL & 2019 & /boxscores/201710190LAL.html & NA & 0 & NA\\\\\n",
       "\t 2873 & LAL & 2019 & /boxscores/201710190LAL.html & NA & 0 & NA\\\\\n",
       "\t 2874 & LAL & 2019 & /boxscores/201710190LAL.html & NA & 0 & NA\\\\\n",
       "\t 2875 & LAL & 2019 & /boxscores/201710190LAL.html & NA & 0 & NA\\\\\n",
       "\t 2876 & LAL & 2019 & /boxscores/201710190LAL.html & NA & 0 & NA\\\\\n",
       "\t 2877 & LAL & 2019 & /boxscores/201710190LAL.html & NA & 0 & NA\\\\\n",
       "\t 2878 & LAL & 2019 & /boxscores/201710190LAL.html & NA & 0 & NA\\\\\n",
       "\t 2879 & LAL & 2019 & /boxscores/201710190LAL.html & NA & 0 & NA\\\\\n",
       "\t 2880 & LAL & 2019 & /boxscores/201710190LAL.html & NA & 0 & NA\\\\\n",
       "\\end{tabular}\n"
      ],
      "text/markdown": [
       "\n",
       "A data.frame: 4569 × 7\n",
       "\n",
       "| Time_left &lt;int&gt; | Team &lt;chr&gt; | Year &lt;dbl&gt; | URL &lt;chr&gt; | Type &lt;chr&gt; | Points &lt;dbl&gt; | ShotDist &lt;int&gt; |\n",
       "|---|---|---|---|---|---|---|\n",
       "| 0 | LAL | 2019 | /boxscores/201910290LAL.html | layup     | 2 |  0 |\n",
       "| 0 | LAL | 2019 | /boxscores/201911010DAL.html | jump shot | 3 | 24 |\n",
       "| 0 | LAL | 2019 | /boxscores/201911030SAS.html | jump shot | 3 | 38 |\n",
       "| 0 | LAL | 2019 | /boxscores/201911050CHI.html | jump shot | 2 | 20 |\n",
       "| 0 | LAL | 2019 | /boxscores/201911220OKC.html | jump shot | 3 | 26 |\n",
       "| 0 | LAL | 2019 | /boxscores/201911230MEM.html | jump shot | 3 | 35 |\n",
       "| 0 | LAL | 2019 | /boxscores/201911250SAS.html | jump shot | 3 | 25 |\n",
       "| 0 | LAL | 2019 | /boxscores/201912010LAL.html | layup     | 2 |  2 |\n",
       "| 0 | LAL | 2019 | /boxscores/201912040UTA.html | jump shot | 3 | 29 |\n",
       "| 0 | LAL | 2019 | /boxscores/201912150ATL.html | jump shot | 2 | 14 |\n",
       "| 0 | LAL | 2019 | /boxscores/201912280POR.html | jump shot | 3 | 22 |\n",
       "| 0 | LAL | 2019 | /boxscores/202001010LAL.html | layup     | 2 |  3 |\n",
       "| 0 | LAL | 2019 | /boxscores/202001130LAL.html | jump shot | 2 | 20 |\n",
       "| 0 | LAL | 2019 | /boxscores/202001150LAL.html | jump shot | 3 | 25 |\n",
       "| 0 | LAL | 2019 | /boxscores/202001230BRK.html | jump shot | 3 | 31 |\n",
       "| 0 | LAL | 2019 | /boxscores/202001250PHI.html | layup     | 2 |  1 |\n",
       "| 0 | LAL | 2019 | /boxscores/202002120DEN.html | layup     | 2 |  2 |\n",
       "| 0 | LAL | 2019 | /boxscores/202003060LAL.html | layup     | 2 |  1 |\n",
       "| 0 | LAL | 2019 | /boxscores/202008100LAL.html | dunk      | 2 |  1 |\n",
       "| 0 | LAL | 2019 | /boxscores/202008100LAL.html | jump shot | 3 | 25 |\n",
       "| 1 | LAL | 2019 | /boxscores/201912220LAL.html | dunk      | 2 |  1 |\n",
       "| 1 | LAL | 2019 | /boxscores/201912290LAL.html | dunk      | 2 |  1 |\n",
       "| 1 | LAL | 2019 | /boxscores/202008050LAL.html | layup     | 2 |  1 |\n",
       "| 2 | LAL | 2019 | /boxscores/201911120PHO.html | layup     | 2 |  3 |\n",
       "| 2 | LAL | 2019 | /boxscores/201911190LAL.html | dunk      | 2 |  1 |\n",
       "| 2 | LAL | 2019 | /boxscores/202002040LAL.html | jump shot | 2 | 14 |\n",
       "| 2 | LAL | 2019 | /boxscores/202002230LAL.html | jump shot | 2 |  4 |\n",
       "| 3 | LAL | 2019 | /boxscores/201910250LAL.html | jump shot | 3 | 25 |\n",
       "| 3 | LAL | 2019 | /boxscores/201911190LAL.html | jump shot | 3 | 23 |\n",
       "| 3 | LAL | 2019 | /boxscores/202001130LAL.html | jump shot | 3 | 27 |\n",
       "| ⋮ | ⋮ | ⋮ | ⋮ | ⋮ | ⋮ | ⋮ |\n",
       "| 2851 | LAL | 2019 | /boxscores/201710190LAL.html | NA | 0 | NA |\n",
       "| 2852 | LAL | 2019 | /boxscores/201710190LAL.html | NA | 0 | NA |\n",
       "| 2853 | LAL | 2019 | /boxscores/201710190LAL.html | NA | 0 | NA |\n",
       "| 2854 | LAL | 2019 | /boxscores/201710190LAL.html | NA | 0 | NA |\n",
       "| 2855 | LAL | 2019 | /boxscores/201710190LAL.html | NA | 0 | NA |\n",
       "| 2856 | LAL | 2019 | /boxscores/201710190LAL.html | NA | 0 | NA |\n",
       "| 2857 | LAL | 2019 | /boxscores/201710190LAL.html | NA | 0 | NA |\n",
       "| 2858 | LAL | 2019 | /boxscores/201710190LAL.html | NA | 0 | NA |\n",
       "| 2859 | LAL | 2019 | /boxscores/201710190LAL.html | NA | 0 | NA |\n",
       "| 2860 | LAL | 2019 | /boxscores/201710190LAL.html | NA | 0 | NA |\n",
       "| 2861 | LAL | 2019 | /boxscores/201710190LAL.html | NA | 0 | NA |\n",
       "| 2862 | LAL | 2019 | /boxscores/201710190LAL.html | NA | 0 | NA |\n",
       "| 2863 | LAL | 2019 | /boxscores/201710190LAL.html | NA | 0 | NA |\n",
       "| 2864 | LAL | 2019 | /boxscores/201710190LAL.html | NA | 0 | NA |\n",
       "| 2865 | LAL | 2019 | /boxscores/201710190LAL.html | NA | 0 | NA |\n",
       "| 2866 | LAL | 2019 | /boxscores/201710190LAL.html | NA | 0 | NA |\n",
       "| 2867 | LAL | 2019 | /boxscores/201710190LAL.html | NA | 0 | NA |\n",
       "| 2868 | LAL | 2019 | /boxscores/201710190LAL.html | NA | 0 | NA |\n",
       "| 2869 | LAL | 2019 | /boxscores/201710190LAL.html | NA | 0 | NA |\n",
       "| 2870 | LAL | 2019 | /boxscores/201710190LAL.html | NA | 0 | NA |\n",
       "| 2871 | LAL | 2019 | /boxscores/201710190LAL.html | NA | 0 | NA |\n",
       "| 2872 | LAL | 2019 | /boxscores/201710190LAL.html | NA | 0 | NA |\n",
       "| 2873 | LAL | 2019 | /boxscores/201710190LAL.html | NA | 0 | NA |\n",
       "| 2874 | LAL | 2019 | /boxscores/201710190LAL.html | NA | 0 | NA |\n",
       "| 2875 | LAL | 2019 | /boxscores/201710190LAL.html | NA | 0 | NA |\n",
       "| 2876 | LAL | 2019 | /boxscores/201710190LAL.html | NA | 0 | NA |\n",
       "| 2877 | LAL | 2019 | /boxscores/201710190LAL.html | NA | 0 | NA |\n",
       "| 2878 | LAL | 2019 | /boxscores/201710190LAL.html | NA | 0 | NA |\n",
       "| 2879 | LAL | 2019 | /boxscores/201710190LAL.html | NA | 0 | NA |\n",
       "| 2880 | LAL | 2019 | /boxscores/201710190LAL.html | NA | 0 | NA |\n",
       "\n"
      ],
      "text/plain": [
       "     Time_left Team Year URL                          Type      Points ShotDist\n",
       "1    0         LAL  2019 /boxscores/201910290LAL.html layup     2       0      \n",
       "2    0         LAL  2019 /boxscores/201911010DAL.html jump shot 3      24      \n",
       "3    0         LAL  2019 /boxscores/201911030SAS.html jump shot 3      38      \n",
       "4    0         LAL  2019 /boxscores/201911050CHI.html jump shot 2      20      \n",
       "5    0         LAL  2019 /boxscores/201911220OKC.html jump shot 3      26      \n",
       "6    0         LAL  2019 /boxscores/201911230MEM.html jump shot 3      35      \n",
       "7    0         LAL  2019 /boxscores/201911250SAS.html jump shot 3      25      \n",
       "8    0         LAL  2019 /boxscores/201912010LAL.html layup     2       2      \n",
       "9    0         LAL  2019 /boxscores/201912040UTA.html jump shot 3      29      \n",
       "10   0         LAL  2019 /boxscores/201912150ATL.html jump shot 2      14      \n",
       "11   0         LAL  2019 /boxscores/201912280POR.html jump shot 3      22      \n",
       "12   0         LAL  2019 /boxscores/202001010LAL.html layup     2       3      \n",
       "13   0         LAL  2019 /boxscores/202001130LAL.html jump shot 2      20      \n",
       "14   0         LAL  2019 /boxscores/202001150LAL.html jump shot 3      25      \n",
       "15   0         LAL  2019 /boxscores/202001230BRK.html jump shot 3      31      \n",
       "16   0         LAL  2019 /boxscores/202001250PHI.html layup     2       1      \n",
       "17   0         LAL  2019 /boxscores/202002120DEN.html layup     2       2      \n",
       "18   0         LAL  2019 /boxscores/202003060LAL.html layup     2       1      \n",
       "19   0         LAL  2019 /boxscores/202008100LAL.html dunk      2       1      \n",
       "20   0         LAL  2019 /boxscores/202008100LAL.html jump shot 3      25      \n",
       "21   1         LAL  2019 /boxscores/201912220LAL.html dunk      2       1      \n",
       "22   1         LAL  2019 /boxscores/201912290LAL.html dunk      2       1      \n",
       "23   1         LAL  2019 /boxscores/202008050LAL.html layup     2       1      \n",
       "24   2         LAL  2019 /boxscores/201911120PHO.html layup     2       3      \n",
       "25   2         LAL  2019 /boxscores/201911190LAL.html dunk      2       1      \n",
       "26   2         LAL  2019 /boxscores/202002040LAL.html jump shot 2      14      \n",
       "27   2         LAL  2019 /boxscores/202002230LAL.html jump shot 2       4      \n",
       "28   3         LAL  2019 /boxscores/201910250LAL.html jump shot 3      25      \n",
       "29   3         LAL  2019 /boxscores/201911190LAL.html jump shot 3      23      \n",
       "30   3         LAL  2019 /boxscores/202001130LAL.html jump shot 3      27      \n",
       "⋮    ⋮         ⋮    ⋮    ⋮                            ⋮         ⋮      ⋮       \n",
       "4540 2851      LAL  2019 /boxscores/201710190LAL.html NA        0      NA      \n",
       "4541 2852      LAL  2019 /boxscores/201710190LAL.html NA        0      NA      \n",
       "4542 2853      LAL  2019 /boxscores/201710190LAL.html NA        0      NA      \n",
       "4543 2854      LAL  2019 /boxscores/201710190LAL.html NA        0      NA      \n",
       "4544 2855      LAL  2019 /boxscores/201710190LAL.html NA        0      NA      \n",
       "4545 2856      LAL  2019 /boxscores/201710190LAL.html NA        0      NA      \n",
       "4546 2857      LAL  2019 /boxscores/201710190LAL.html NA        0      NA      \n",
       "4547 2858      LAL  2019 /boxscores/201710190LAL.html NA        0      NA      \n",
       "4548 2859      LAL  2019 /boxscores/201710190LAL.html NA        0      NA      \n",
       "4549 2860      LAL  2019 /boxscores/201710190LAL.html NA        0      NA      \n",
       "4550 2861      LAL  2019 /boxscores/201710190LAL.html NA        0      NA      \n",
       "4551 2862      LAL  2019 /boxscores/201710190LAL.html NA        0      NA      \n",
       "4552 2863      LAL  2019 /boxscores/201710190LAL.html NA        0      NA      \n",
       "4553 2864      LAL  2019 /boxscores/201710190LAL.html NA        0      NA      \n",
       "4554 2865      LAL  2019 /boxscores/201710190LAL.html NA        0      NA      \n",
       "4555 2866      LAL  2019 /boxscores/201710190LAL.html NA        0      NA      \n",
       "4556 2867      LAL  2019 /boxscores/201710190LAL.html NA        0      NA      \n",
       "4557 2868      LAL  2019 /boxscores/201710190LAL.html NA        0      NA      \n",
       "4558 2869      LAL  2019 /boxscores/201710190LAL.html NA        0      NA      \n",
       "4559 2870      LAL  2019 /boxscores/201710190LAL.html NA        0      NA      \n",
       "4560 2871      LAL  2019 /boxscores/201710190LAL.html NA        0      NA      \n",
       "4561 2872      LAL  2019 /boxscores/201710190LAL.html NA        0      NA      \n",
       "4562 2873      LAL  2019 /boxscores/201710190LAL.html NA        0      NA      \n",
       "4563 2874      LAL  2019 /boxscores/201710190LAL.html NA        0      NA      \n",
       "4564 2875      LAL  2019 /boxscores/201710190LAL.html NA        0      NA      \n",
       "4565 2876      LAL  2019 /boxscores/201710190LAL.html NA        0      NA      \n",
       "4566 2877      LAL  2019 /boxscores/201710190LAL.html NA        0      NA      \n",
       "4567 2878      LAL  2019 /boxscores/201710190LAL.html NA        0      NA      \n",
       "4568 2879      LAL  2019 /boxscores/201710190LAL.html NA        0      NA      \n",
       "4569 2880      LAL  2019 /boxscores/201710190LAL.html NA        0      NA      "
      ]
     },
     "metadata": {},
     "output_type": "display_data"
    }
   ],
   "source": [
    "df_2019"
   ]
  },
  {
   "cell_type": "code",
   "execution_count": null,
   "id": "ae36e56e-a417-41db-a86c-9a5ed50deb0e",
   "metadata": {},
   "outputs": [],
   "source": []
  },
  {
   "cell_type": "markdown",
   "id": "145275f9-4ef9-457d-bf6d-3e0ab84e7d9f",
   "metadata": {},
   "source": [
    "## Preprocess data"
   ]
  },
  {
   "cell_type": "code",
   "execution_count": 6,
   "id": "1b472084-d04f-4630-b413-3512149559e8",
   "metadata": {},
   "outputs": [],
   "source": [
    "calculate_means <- function(df){\n",
    "    # Calculate mean of points and shot distance by year \n",
    "    # and each 10 seconds\n",
    "    df_means <- df %>%\n",
    "      group_by(Year, (Time_left %/% 10)) %>%\n",
    "      summarize(\n",
    "        Media_Points = mean(Points, na.rm = TRUE),\n",
    "        Media_ShotDist = mean(ShotDist, na.rm = TRUE)\n",
    "      ) %>% \n",
    "    arrange(desc(`(Time_left%/%10)`))\n",
    "    \n",
    "    # Write Time_left in 10 seconds interval\n",
    "    df_means$`(Time_left%/%10)` <- df_means$`(Time_left%/%10)` * 10\n",
    "    \n",
    "    # Rename Time_left column\n",
    "    df_means <- df_means %>% \n",
    "        rename(Time_left = `(Time_left%/%10)`)\n",
    "    \n",
    "    df_means <- df_means %>%\n",
    "        mutate(Time = 2880 - Time_left) %>%\n",
    "        select(-Time_left)\n",
    "    \n",
    "    return (df_means)\n",
    "}"
   ]
  },
  {
   "cell_type": "code",
   "execution_count": 7,
   "id": "b5feb99f-91dd-45b3-b15a-f694f24cd454",
   "metadata": {},
   "outputs": [
    {
     "name": "stderr",
     "output_type": "stream",
     "text": [
      "\u001b[1m\u001b[22m`summarise()` has grouped output by 'Year'. You can override using the\n",
      "`.groups` argument.\n",
      "\u001b[1m\u001b[22m`summarise()` has grouped output by 'Year'. You can override using the\n",
      "`.groups` argument.\n",
      "\u001b[1m\u001b[22m`summarise()` has grouped output by 'Year'. You can override using the\n",
      "`.groups` argument.\n"
     ]
    }
   ],
   "source": [
    "df_means2017 <- calculate_means(df_2017)\n",
    "df_means2018 <- calculate_means(df_2018)\n",
    "df_means2019 <- calculate_means(df_2019)"
   ]
  },
  {
   "cell_type": "code",
   "execution_count": 9,
   "id": "ed665471-31e9-4001-90a8-104a9567ab61",
   "metadata": {},
   "outputs": [
    {
     "data": {
      "image/png": "[encoded data removed]",
      "text/plain": [
       "Plot with title \"Media de puntos cada 10 segundos de Los\n",
       "Angeles Lakers en la temporada 2019-20\""
      ]
     },
     "metadata": {
      "image/png": {
       "height": 420,
       "width": 420
      }
     },
     "output_type": "display_data"
    }
   ],
   "source": [
    "# jpeg(\"graphs\\\\time_series.jpg\", width = 800, height = 500)\n",
    "\n",
    "# Grid of plots (3 rows with 1 column)\n",
    "par(mfrow = c(3, 1))\n",
    "\n",
    "# Graph 1: 2017-18 Season\n",
    "plot(df_means2017$Time, df_means2017$Media_Points, \n",
    "     type = \"l\", \n",
    "     main = \"Media de puntos cada 10 segundos de Los\\nAngeles Lakers en la temporada 2017-18\", \n",
    "     xlab = \"Tiempo (s)\", ylab = \"Media de puntos\")\n",
    "abline(v = c(720, 1440, 2160), col = \"red\", lwd = 2)\n",
    "\n",
    "# Graph 2: 2018-19 Season\n",
    "plot(df_means2018$Time, df_means2018$Media_Points, \n",
    "     type = \"l\", \n",
    "     main = \"Media de puntos cada 10 segundos de Los\\nAngeles Lakers en la temporada 2018-19\", \n",
    "     xlab = \"Tiempo (s)\", ylab = \"Media de puntos\")\n",
    "abline(v = c(720, 1440, 2160), col = \"red\", lwd = 2)\n",
    "\n",
    "# Graph 3: 2019-20 Season\n",
    "plot(df_means2019$Time, df_means2019$Media_Points, \n",
    "     type = \"l\", \n",
    "     main = \"Media de puntos cada 10 segundos de Los\\nAngeles Lakers en la temporada 2019-20\", \n",
    "     xlab = \"Tiempo (s)X\", ylab = \"Media de puntos\")\n",
    "abline(v = c(720, 1440, 2160), col = \"red\", lwd = 2)\n",
    "\n",
    "# dev.off()"
   ]
  },
  {
   "cell_type": "markdown",
   "id": "d15ffeba-69f7-4289-878f-21856b1c5b8a",
   "metadata": {},
   "source": [
    "## Time Series Analysis"
   ]
  },
  {
   "cell_type": "code",
   "execution_count": 12,
   "id": "10287a0b-55da-4538-8b07-3d21c3c671b5",
   "metadata": {},
   "outputs": [
    {
     "data": {
      "image/png": "[encoded data removed]",
      "text/plain": [
       "Plot with title \"Series  serie\""
      ]
     },
     "metadata": {
      "image/png": {
       "height": 420,
       "width": 420
      }
     },
     "output_type": "display_data"
    },
    {
     "data": {
      "image/png": "[encoded data removed]",
      "text/plain": [
       "Plot with title \"Series  serie\""
      ]
     },
     "metadata": {
      "image/png": {
       "height": 420,
       "width": 420
      }
     },
     "output_type": "display_data"
    },
    {
     "data": {
      "image/png": "[encoded data removed]",
      "text/plain": [
       "Plot with title \"Series  serie\""
      ]
     },
     "metadata": {
      "image/png": {
       "height": 420,
       "width": 420
      }
     },
     "output_type": "display_data"
    },
    {
     "data": {
      "image/png": "[encoded data removed]",
      "text/plain": [
       "Plot with title \"Series  serie\""
      ]
     },
     "metadata": {
      "image/png": {
       "height": 420,
       "width": 420
      }
     },
     "output_type": "display_data"
    },
    {
     "data": {
      "image/png": "[encoded data removed]",
      "text/plain": [
       "Plot with title \"Series  serie\""
      ]
     },
     "metadata": {
      "image/png": {
       "height": 420,
       "width": 420
      }
     },
     "output_type": "display_data"
    },
    {
     "data": {
      "image/png": "[encoded data removed]",
      "text/plain": [
       "Plot with title \"Series  serie\""
      ]
     },
     "metadata": {
      "image/png": {
       "height": 420,
       "width": 420
      }
     },
     "output_type": "display_data"
    }
   ],
   "source": [
    "time_series_analysis <- function(df, freq = 6){\n",
    "    \n",
    "    # Use data as time series\n",
    "    serie <- ts(df$Media_Points, frequency=freq)\n",
    "    \n",
    "    # Descompose a time series into seasonal, trend and errors\n",
    "    descompose <- stl(serie, s.window='periodic')\n",
    "    \n",
    "    # Transform into time series object\n",
    "    datats <- ts(rowSums(descompose$time.series))\n",
    "    tsp(datats) <- tsp(descompose$time.series)\n",
    "    \n",
    "    #Break Detection in the Seasonal and Trend Component\n",
    "    breaks <- bfast(datats, season=\"dummy\", max.iter=3)\n",
    "    \n",
    "    # Create acf and pacf\n",
    "    acf <- acf(serie)\n",
    "    pacf <- pacf(serie)\n",
    "    \n",
    "    # Data to return \n",
    "    return_ <- list(descompose, breaks, acf, pacf)\n",
    "    return (return_)\n",
    "}\n",
    "\n",
    "ts_2017 <- time_series_analysis(df_means2017)\n",
    "descompose_2017 <- ts_2017[[1]]; breaks_2017 <- ts_2017[[2]]\n",
    "acf_2017 <- ts_2017[[3]]; pacf_2017 <- ts_2017[[4]]\n",
    "\n",
    "ts_2018 <- time_series_analysis(df_means2018)\n",
    "descompose_2018 <- ts_2018[[1]]; breaks_2018 <- ts_2018[[2]]\n",
    "acf_2018 <- ts_2018[[3]]; pacf_2018 <- ts_2018[[4]]\n",
    "\n",
    "ts_2019 <- time_series_analysis(df_means2019)\n",
    "descompose_2019 <- ts_2019[[1]]; breaks_2019 <- ts_2019[[2]]\n",
    "acf_2019 <- ts_2019[[3]]; pacf_2019 <- ts_2019[[4]]\n"
   ]
  },
  {
   "cell_type": "markdown",
   "id": "14a65fdc-d51b-4380-9626-a3f0b446496b",
   "metadata": {},
   "source": [
    "### Trend"
   ]
  },
  {
   "cell_type": "code",
   "execution_count": 10,
   "id": "e2cca780-bf03-4531-811d-9a51d90f9cd0",
   "metadata": {},
   "outputs": [
    {
     "name": "stderr",
     "output_type": "stream",
     "text": [
      "Warning message:\n",
      "\"\u001b[1m\u001b[22mThe `<scale>` argument of `guides()` cannot be `FALSE`. Use \"none\" instead as\n",
      "of ggplot2 3.3.4.\"\n"
     ]
    },
    {
     "data": {
      "image/png": "[encoded data removed]",
      "text/plain": [
       "plot without title"
      ]
     },
     "metadata": {
      "image/png": {
       "height": 420,
       "width": 420
      }
     },
     "output_type": "display_data"
    }
   ],
   "source": [
    "# Definir el data frame para las líneas verticales\n",
    "vlines_data <- data.frame(xintercept = c(720, 1440, 2160, 2880),\n",
    "                          season = c(\"Fin de\\nCuarto 1\", \"Fin de\\nCuarto 2\", \"Fin de\\nCuarto 3\", \"Fin de\\nCuarto 4\"))\n",
    "\n",
    "colors = c('#219C90', \n",
    "           '#D83F31', \n",
    "           '#E9B824', \n",
    "           '#EE9322')\n",
    "\n",
    "# Crear los gráficos con las personalizaciones\n",
    "p1 <- ggplot(df_means2017, aes(x = Time, y = Media_Points)) +\n",
    "    geom_line(color = colors[1], lwd = 0.7) +\n",
    "    geom_vline(data = vlines_data, aes(xintercept = xintercept, color = season), \n",
    "               linetype = \"dashed\", \n",
    "               lwd = 1, \n",
    "               color = '#071952') +\n",
    "    labs(title = NULL, x = NULL, y = NULL) +\n",
    "    scale_x_continuous(breaks = seq(0, 3000, by = 180)) +\n",
    "    guides(color = FALSE) + \n",
    "    geom_text(aes(x = 2300, \n",
    "                   y = 0.2, \n",
    "                   label = '2017-18'), \n",
    "               size = 5, angle = 0, hjust = 0, color = colors[1], vjust = 0, fontface = \"bold\") +\n",
    "     \n",
    "    # Text about first quarter\n",
    "    geom_text(aes(x = 150, \n",
    "                   y = 2.3, \n",
    "                   label = 'Cuarto 1'), \n",
    "               size = 3.8, angle = 0, hjust = 0, color = '#071952', vjust = 0) +\n",
    "\n",
    "    # Text about second quarter\n",
    "    geom_text(aes(x = 920, \n",
    "                   y = 2.3, \n",
    "                   label = 'Cuarto 2'), \n",
    "               size = 3.8, angle = 0, hjust = 0, color = '#071952', vjust = 0) +\n",
    "\n",
    "    # Text about third quarter\n",
    "    geom_text(aes(x = 1610, \n",
    "                   y = 2.3, \n",
    "                   label = 'Cuarto 3'), \n",
    "               size = 3.8, angle = 0, hjust = 0, color = '#071952', vjust = 0) +\n",
    "\n",
    "    # Text about fourth quarter\n",
    "    geom_text(aes(x = 2360, \n",
    "                   y = 2.3, \n",
    "                   label = 'Cuarto 4'), \n",
    "               size = 3.8, angle = 0, hjust = 0, color = '#071952', vjust = 0) +\n",
    "    theme_minimal() +\n",
    "\n",
    "    theme(axis.text.x = element_blank(),  # Ángulo de las etiquetas x\n",
    "          axis.text.y = element_text(size = 10, face = \"bold\"))\n",
    "\n",
    "p2 <- ggplot(df_means2018, aes(x = Time, y = Media_Points)) +\n",
    "    geom_line(color = colors[2], lwd = 0.7) +\n",
    "    geom_vline(data = vlines_data, aes(xintercept = xintercept, color = season), \n",
    "               linetype = \"dashed\", \n",
    "               lwd = 1, \n",
    "               color = '#071952') +\n",
    "    labs(title = NULL, x = NULL, y = NULL) +\n",
    "    guides(color = FALSE) + \n",
    "    scale_x_continuous(breaks = seq(0, 3000, by = 180)) +\n",
    "    geom_text(aes(x = 2300, \n",
    "                   y = 0.2, \n",
    "                   label = '2018-19'), \n",
    "               size = 5, angle = 0, hjust = 0, color = colors[2], vjust = 0, fontface = \"bold\") +\n",
    "    theme_minimal() +\n",
    "    theme(axis.text.x = element_blank(),  # Ángulo de las etiquetas x\n",
    "          axis.text.y = element_text(size = 10, face = \"bold\"))\n",
    "\n",
    "# Make graph in season 2019-20\n",
    "p3 <- ggplot(df_means2019, aes(x = Time, y = Media_Points)) +\n",
    "    geom_line(color = colors[4], lwd = 0.7) +\n",
    "    geom_vline(data = vlines_data, aes(xintercept = xintercept, color = season), \n",
    "               linetype = \"dashed\", \n",
    "               lwd = 1, \n",
    "               color = '#071952') +\n",
    "    labs(title = NULL, x = NULL, y = NULL) +\n",
    "    guides(color = FALSE) + \n",
    "    scale_x_continuous(breaks = seq(0, 3000, by = 180)) + \n",
    "    \n",
    "    # Text about season\n",
    "    geom_text(aes(x = 2300, \n",
    "                   y = 0.2, \n",
    "                   label = '2019-20'), \n",
    "               size = 5, angle = 0, hjust = 0, color = colors[4], vjust = 0, fontface = \"bold\") +\n",
    "    \n",
    "    theme_minimal() +\n",
    "    theme(axis.text.x = element_text(size = 14, face = \"bold\", angle = 90, hjust = 1),  # Ángulo de las etiquetas x\n",
    "          axis.text.y = element_text(size = 10, face = \"bold\"))\n",
    "\n",
    "\n",
    "# Arrange the plots in a grid with custom margins\n",
    "grid_arrange <- grid.arrange(\n",
    "    p1, p2, p3,\n",
    "    ncol = 1,\n",
    "    heights = c(0.5, 0.5, 0.65),\n",
    "    \n",
    "    # Wirte left text\n",
    "    left = textGrob(\"Media de puntos\", rot = 90, \n",
    "                    gp = gpar(fontsize=18)),\n",
    "    \n",
    "    # Wirte bottom text\n",
    "    bottom = textGrob(\"Tiempo (s)\", gp=gpar(fontsize = 18)),\n",
    "    \n",
    "    # Wirte top text\n",
    "    top = textGrob(\"Media de puntos cada 10 segundos de\\nLos Angeles Lakers por temporada\\n\", rot = 0, \n",
    "                    gp = gpar(fontsize=20)), \n",
    "    \n",
    "    # Wirte right text\n",
    "    right = textGrob(\"Temporada\\n\", rot = 270, gp=gpar(fontsize = 18))\n",
    ")\n",
    "\n",
    "# Save fig\n",
    "ggsave(\"graphs\\\\ts_lineplot.pdf\", plot = arrangeGrob(grid_arrange), device = \"pdf\",\n",
    "      width = 22, height = 16, units = \"cm\", dpi = 600)"
   ]
  },
  {
   "cell_type": "markdown",
   "id": "f29e1544-6926-443c-a7a6-9bdd67ccea7c",
   "metadata": {},
   "source": [
    "### ACF"
   ]
  },
  {
   "cell_type": "code",
   "execution_count": 11,
   "id": "12d2a231-a44e-4778-b67b-f9a5ffd71919",
   "metadata": {},
   "outputs": [
    {
     "data": {
      "image/png": "[encoded data removed]",
      "text/plain": [
       "plot without title"
      ]
     },
     "metadata": {
      "image/png": {
       "height": 420,
       "width": 420
      }
     },
     "output_type": "display_data"
    }
   ],
   "source": [
    "# Convierte el resultado de acf en un data frame\n",
    "acf_data_2017 <- data.frame(lag = acf_2017$lag, acf = acf_2017$acf)\n",
    "acf_data_2018 <- data.frame(lag = acf_2018$lag, acf = acf_2018$acf)\n",
    "acf_data_2019 <- data.frame(lag = acf_2019$lag, acf = acf_2019$acf)\n",
    "\n",
    "# Definir el data frame para las líneas verticales\n",
    "\n",
    "colors = c('#219C90', \n",
    "           '#D83F31', \n",
    "           '#E9B824', \n",
    "           '#EE9322')\n",
    "\n",
    "# Crear los gráficos con las personalizaciones\n",
    "p1 <- ggplot(acf_data_2017, aes(x = lag, y = acf)) +\n",
    "    geom_bar(stat = \"identity\", fill = colors[1]) +\n",
    "    labs(title = NULL, x = NULL, y = NULL) +\n",
    "    guides(color = FALSE) + \n",
    "     geom_text(aes(x = 3.3, \n",
    "                   y = 0.8, \n",
    "                   label = '2017-18'), \n",
    "               size = 6, angle = 0, hjust = 0, color = colors[1], vjust = 0, fontface = \"bold\") +\n",
    "    theme_minimal() +\n",
    "    theme(axis.text.x = element_blank(),  # Ángulo de las etiquetas x\n",
    "          axis.text.y = element_text(size = 10, face = \"bold\"))\n",
    "\n",
    "p2 <- ggplot(acf_data_2018, aes(x = lag, y = acf)) +\n",
    "    geom_bar(stat = \"identity\", fill = colors[2]) +\n",
    "    labs(title = NULL, x = NULL, y = NULL) +\n",
    "    guides(color = FALSE) + \n",
    "     geom_text(aes(x = 3.3, \n",
    "                   y = 0.8, \n",
    "                   label = '2018-19'), \n",
    "               size = 6, angle = 0, hjust = 0, color = colors[2], vjust = 0, fontface = \"bold\") +\n",
    "    theme_minimal() +\n",
    "    theme(axis.text.x = element_blank(),  # Ángulo de las etiquetas x\n",
    "          axis.text.y = element_text(size = 10, face = \"bold\"))\n",
    "\n",
    "# Make graph in season 2019-20\n",
    "p3 <- ggplot(acf_data_2019, aes(x = lag, y = acf)) +\n",
    "    geom_bar(stat = \"identity\", fill = colors[4]) +\n",
    "    labs(title = NULL, x = NULL, y = NULL) +\n",
    "    guides(color = FALSE) + \n",
    "     geom_text(aes(x = 3.3, \n",
    "                   y = 0.8, \n",
    "                   label = '2019-20'), \n",
    "               size = 6, angle = 0, hjust = 0, color = colors[4], vjust = 0, fontface = \"bold\") +\n",
    "    theme_minimal() +\n",
    "    theme(axis.text.x = element_text(size = 12, hjust = 1),  # Ángulo de las etiquetas x\n",
    "          axis.text.y = element_text(size = 10, face = \"bold\"))\n",
    "\n",
    "\n",
    "# Arrange the plots in a grid with custom margins\n",
    "grid_arrange <- grid.arrange(\n",
    "    p1, p2, p3,\n",
    "    ncol = 1,\n",
    "    heights = c(0.5, 0.5, 0.65),\n",
    "    \n",
    "    # Wirte left text\n",
    "    left = textGrob(\"ACF\", rot = 90, \n",
    "                    gp = gpar(fontsize=16)),\n",
    "    \n",
    "    # Wirte bottom text\n",
    "    bottom = textGrob(\"Lag\", gp=gpar(fontsize = 16)),\n",
    "    \n",
    "    # Wirte top text\n",
    "    top = textGrob(\"Función de autocorrelación para la serie de cantidad\\nde puntos cada 10 segundos por temporada\", rot = 0, \n",
    "                    gp = gpar(fontsize=18)), \n",
    "    \n",
    "    # Wirte right text\n",
    "    right = textGrob(\"Temporada\", rot = 270, gp=gpar(fontsize = 18))\n",
    ")\n",
    "\n",
    "# Save fig\n",
    "ggsave(\"graphs\\\\acf.pdf\", plot = arrangeGrob(grid_arrange), device = \"pdf\",\n",
    "      width = 18, height = 16, units = \"cm\", dpi = 600)\n"
   ]
  },
  {
   "cell_type": "markdown",
   "id": "08b21427-6b12-4f51-af7f-68a9dfd99a2d",
   "metadata": {},
   "source": [
    "### PACF"
   ]
  },
  {
   "cell_type": "code",
   "execution_count": 12,
   "id": "5c0b7fe6-5291-4235-ad13-ce22d1d0a160",
   "metadata": {},
   "outputs": [
    {
     "data": {
      "image/png": "[encoded data removed]",
      "text/plain": [
       "plot without title"
      ]
     },
     "metadata": {
      "image/png": {
       "height": 420,
       "width": 420
      }
     },
     "output_type": "display_data"
    }
   ],
   "source": [
    "# Convierte el resultado de acf en un data frame\n",
    "pacf_data_2017 <- data.frame(lag = pacf_2017$lag, acf = pacf_2017$acf)\n",
    "pacf_data_2018 <- data.frame(lag = pacf_2018$lag, acf = pacf_2018$acf)\n",
    "pacf_data_2019 <- data.frame(lag = pacf_2019$lag, acf = pacf_2019$acf)\n",
    "\n",
    "# Definir el data frame para las líneas verticales\n",
    "\n",
    "colors = c('#219C90', \n",
    "           '#D83F31', \n",
    "           '#E9B824', \n",
    "           '#EE9322')\n",
    "\n",
    "# Crear los gráficos con las personalizaciones\n",
    "p1 <- ggplot(pacf_data_2017, aes(x = lag, y = acf)) +\n",
    "    geom_bar(stat = \"identity\", fill = colors[1]) +\n",
    "    labs(title = NULL, x = NULL, y = NULL) +\n",
    "    guides(color = FALSE) + \n",
    "     geom_text(aes(x = 3.3, \n",
    "                   y = 0.65, \n",
    "                   label = '2017-18'), \n",
    "               size = 6, angle = 0, hjust = 0, color = colors[1], vjust = 0, fontface = \"bold\") +\n",
    "    theme_minimal() +\n",
    "    theme(axis.text.x = element_blank(),  # Ángulo de las etiquetas x\n",
    "          axis.text.y = element_text(size = 10, face = \"bold\"))\n",
    "\n",
    "p2 <- ggplot(pacf_data_2018, aes(x = lag, y = acf)) +\n",
    "    geom_bar(stat = \"identity\", fill = colors[2]) +\n",
    "    labs(title = NULL, x = NULL, y = NULL) +\n",
    "    guides(color = FALSE) + \n",
    "     geom_text(aes(x = 3.3, \n",
    "                   y = 0.65, \n",
    "                   label = '2018-19'), \n",
    "               size = 6, angle = 0, hjust = 0, color = colors[2], vjust = 0, fontface = \"bold\") +\n",
    "    theme_minimal() +\n",
    "    theme(axis.text.x = element_blank(),  # Ángulo de las etiquetas x\n",
    "          axis.text.y = element_text(size = 10, face = \"bold\"))\n",
    "\n",
    "# Make graph in season 2019-20\n",
    "p3 <- ggplot(pacf_data_2019, aes(x = lag, y = acf)) +\n",
    "    geom_bar(stat = \"identity\", fill = colors[4]) +\n",
    "    labs(title = NULL, x = NULL, y = NULL) +\n",
    "    guides(color = FALSE) + \n",
    "     geom_text(aes(x = 3.3, \n",
    "                   y = 0.65, \n",
    "                   label = '2019-20'), \n",
    "               size = 6, angle = 0, hjust = 0, color = colors[4], vjust = 0, fontface = \"bold\") +\n",
    "    theme_minimal() +\n",
    "    theme(axis.text.x = element_text(size = 12, hjust = 1),  # Ángulo de las etiquetas x\n",
    "          axis.text.y = element_text(size = 10, face = \"bold\"))\n",
    "\n",
    "dashed_line <- geom_hline(yintercept = 0.10, linetype = \"dashed\", color = \"black\", lwd = 0.8)\n",
    "dashed_line2 <- geom_hline(yintercept = -0.10, linetype = \"dashed\", color = \"black\", lwd = 0.8)\n",
    "\n",
    "# Añadir la línea punteada a los gráficos\n",
    "p1 <- p1 + dashed_line + dashed_line2  \n",
    "p2 <- p2 + dashed_line + dashed_line2\n",
    "p3 <- p3 + dashed_line + dashed_line2\n",
    "\n",
    "# Arrange the plots in a grid with custom margins\n",
    "grid_arrange <- grid.arrange(\n",
    "    p1, p2, p3,\n",
    "    ncol = 1,\n",
    "    heights = c(0.5, 0.5, 0.65),\n",
    "    \n",
    "    # Wirte left text\n",
    "    left = textGrob(\"PACF\", rot = 90, \n",
    "                    gp = gpar(fontsize=16)),\n",
    "    \n",
    "    # Wirte bottom text\n",
    "    bottom = textGrob(\"Lag\", gp=gpar(fontsize = 16)),\n",
    "    \n",
    "    # Wirte top text\n",
    "    top = textGrob(\"Función de autocorrelación parcial para la serie de\\ncantidad de puntos cada 10 segundos por temporada\", rot = 0, \n",
    "                    gp = gpar(fontsize=18)), \n",
    "    \n",
    "    # Wirte right text\n",
    "    right = textGrob(\"Temporada\\n\", rot = 270, gp=gpar(fontsize = 18))\n",
    ")\n",
    "\n",
    "\n",
    "ggsave(\"graphs\\\\pacf.pdf\", plot = arrangeGrob(grid_arrange), device = \"pdf\",\n",
    "      width = 18, height = 16, units = \"cm\", dpi = 600)"
   ]
  },
  {
   "cell_type": "code",
   "execution_count": 13,
   "id": "95e45c05-5641-4084-90d5-3ac0e3981ee4",
   "metadata": {},
   "outputs": [
    {
     "data": {
      "text/plain": [
       "NULL"
      ]
     },
     "metadata": {},
     "output_type": "display_data"
    },
    {
     "data": {
      "text/html": [
       "<strong>png:</strong> 2"
      ],
      "text/latex": [
       "\\textbf{png:} 2"
      ],
      "text/markdown": [
       "**png:** 2"
      ],
      "text/plain": [
       "png \n",
       "  2 "
      ]
     },
     "metadata": {},
     "output_type": "display_data"
    },
    {
     "data": {
      "text/plain": [
       "NULL"
      ]
     },
     "metadata": {},
     "output_type": "display_data"
    },
    {
     "data": {
      "text/html": [
       "<strong>png:</strong> 2"
      ],
      "text/latex": [
       "\\textbf{png:} 2"
      ],
      "text/markdown": [
       "**png:** 2"
      ],
      "text/plain": [
       "png \n",
       "  2 "
      ]
     },
     "metadata": {},
     "output_type": "display_data"
    },
    {
     "data": {
      "text/plain": [
       "NULL"
      ]
     },
     "metadata": {},
     "output_type": "display_data"
    },
    {
     "data": {
      "text/html": [
       "<strong>png:</strong> 2"
      ],
      "text/latex": [
       "\\textbf{png:} 2"
      ],
      "text/markdown": [
       "**png:** 2"
      ],
      "text/plain": [
       "png \n",
       "  2 "
      ]
     },
     "metadata": {},
     "output_type": "display_data"
    }
   ],
   "source": [
    "pdf(\"graphs\\\\descompose_2017.pdf\", width = 10, height = 6)\n",
    "plot(breaks_2017, main = \"Descomposición de Serie temporal\")\n",
    "dev.off()\n",
    "\n",
    "\n",
    "pdf(\"graphs\\\\descompose_2018.pdf\", width = 10, height = 6)\n",
    "plot(breaks_2018, main = \"Descomposición de Serie temporal\")\n",
    "dev.off()\n",
    "\n",
    "\n",
    "pdf(\"graphs\\\\descompose_2019.pdf\", width = 10, height = 6)\n",
    "plot(breaks_2019, main = \"Descomposición de Serie temporal\")\n",
    "dev.off()\n"
   ]
  },
  {
   "cell_type": "markdown",
   "id": "3da01faf-9fc4-4a4f-a55a-d02060f606db",
   "metadata": {},
   "source": [
    "### Breaks"
   ]
  },
  {
   "cell_type": "code",
   "execution_count": 14,
   "id": "8cd28385-bac0-481a-9752-460b5cba70a7",
   "metadata": {},
   "outputs": [
    {
     "data": {
      "text/plain": [
       "\n",
       "  TREND BREAKPOINTS\n",
       "\t Confidence intervals for breakpoints\n",
       "\t of optimal 4-segment partition: \n",
       "\n",
       "Call:\n",
       "confint.breakpointsfull(object = bp.Vt, het.err = FALSE)\n",
       "\n",
       "Breakpoints at observation number:\n",
       "  2.5 % breakpoints 97.5 %\n",
       "1    71          75     78\n",
       "2   142         147    149\n",
       "3   216         218    222\n",
       "\n",
       "Corresponding to breakdates:\n",
       "  2.5 % breakpoints 97.5 %\n",
       "1 12(5) 13(3)       13(6) \n",
       "2 24(4) 25(3)       25(5) \n",
       "3 36(6) 37(2)       37(6) \n",
       "\n",
       "  SEASONAL BREAKPOINTS:  None\n"
      ]
     },
     "metadata": {},
     "output_type": "display_data"
    }
   ],
   "source": [
    "breaks_2017"
   ]
  },
  {
   "cell_type": "code",
   "execution_count": 15,
   "id": "553b16e3-116b-4a39-bf42-bcaf1f74346c",
   "metadata": {},
   "outputs": [
    {
     "data": {
      "text/plain": [
       "\n",
       "  TREND BREAKPOINTS\n",
       "\t Confidence intervals for breakpoints\n",
       "\t of optimal 4-segment partition: \n",
       "\n",
       "Call:\n",
       "confint.breakpointsfull(object = bp.Vt, het.err = FALSE)\n",
       "\n",
       "Breakpoints at observation number:\n",
       "  2.5 % breakpoints 97.5 %\n",
       "1    74          78     80\n",
       "2   144         147    151\n",
       "3   212         217    221\n",
       "\n",
       "Corresponding to breakdates:\n",
       "  2.5 % breakpoints 97.5 %\n",
       "1 13(2) 13(6)       14(2) \n",
       "2 24(6) 25(3)       26(1) \n",
       "3 36(2) 37(1)       37(5) \n",
       "\n",
       "  SEASONAL BREAKPOINTS:  None\n"
      ]
     },
     "metadata": {},
     "output_type": "display_data"
    }
   ],
   "source": [
    "breaks_2018"
   ]
  },
  {
   "cell_type": "code",
   "execution_count": 16,
   "id": "b59df3f1-7356-45e8-8493-25a6420ed374",
   "metadata": {},
   "outputs": [
    {
     "data": {
      "text/plain": [
       "\n",
       "  TREND BREAKPOINTS\n",
       "\t Confidence intervals for breakpoints\n",
       "\t of optimal 4-segment partition: \n",
       "\n",
       "Call:\n",
       "confint.breakpointsfull(object = bp.Vt, het.err = FALSE)\n",
       "\n",
       "Breakpoints at observation number:\n",
       "  2.5 % breakpoints 97.5 %\n",
       "1    74          83     84\n",
       "2   142         144    154\n",
       "3   213         217    220\n",
       "\n",
       "Corresponding to breakdates:\n",
       "  2.5 % breakpoints 97.5 %\n",
       "1 13(2) 14(5)       14(6) \n",
       "2 24(4) 24(6)       26(4) \n",
       "3 36(3) 37(1)       37(4) \n",
       "\n",
       "  SEASONAL BREAKPOINTS:  None\n"
      ]
     },
     "metadata": {},
     "output_type": "display_data"
    }
   ],
   "source": [
    "breaks_2019"
   ]
  },
  {
   "cell_type": "markdown",
   "id": "5b0eed86-45f3-40f8-afb3-4ba7617074fc",
   "metadata": {},
   "source": [
    "## ANOVA "
   ]
  },
  {
   "cell_type": "code",
   "execution_count": 17,
   "id": "b34f5bb4-a523-4ec2-bb02-07c34da6dab0",
   "metadata": {},
   "outputs": [],
   "source": [
    "create_df_aov <- function (df){\n",
    "    df %>%\n",
    "        group_by(Year, URL) %>%\n",
    "        summarize(\n",
    "            Total_points = sum(Points, na.rm = FALSE),\n",
    "        ) \n",
    "    }"
   ]
  },
  {
   "cell_type": "code",
   "execution_count": 52,
   "id": "7188e1e6-65bf-484c-9c0c-08e3565a2da8",
   "metadata": {},
   "outputs": [
    {
     "name": "stderr",
     "output_type": "stream",
     "text": [
      "\u001b[1m\u001b[22m`summarise()` has grouped output by 'Year'. You can override using the\n",
      "`.groups` argument.\n",
      "\u001b[1m\u001b[22m`summarise()` has grouped output by 'Year'. You can override using the\n",
      "`.groups` argument.\n",
      "\u001b[1m\u001b[22m`summarise()` has grouped output by 'Year'. You can override using the\n",
      "`.groups` argument.\n"
     ]
    }
   ],
   "source": [
    "df_aov_2017 <- create_df_aov(df_2017)\n",
    "df_aov_2018 <- create_df_aov(df_2018)\n",
    "df_aov_2019 <- create_df_aov(df_2019)\n",
    "\n",
    "\n",
    "df_aov <- rbind(df_aov_2017, df_aov_2018)\n",
    "df_aov <- rbind(df_aov, df_aov_2019)\n",
    "df_aov$Total_points[df_aov$Total_points == 0] <- NA\n",
    "\n",
    "df_aov <- na.omit(df_aov)\n",
    "\n",
    "df_aov$Year <- as.factor(df_aov$Year)"
   ]
  },
  {
   "cell_type": "code",
   "execution_count": 61,
   "id": "7b96163e-bdac-4421-9aa9-11b6cdac091c",
   "metadata": {},
   "outputs": [
    {
     "data": {
      "text/html": [
       "<strong>png:</strong> 2"
      ],
      "text/latex": [
       "\\textbf{png:} 2"
      ],
      "text/markdown": [
       "**png:** 2"
      ],
      "text/plain": [
       "png \n",
       "  2 "
      ]
     },
     "metadata": {},
     "output_type": "display_data"
    }
   ],
   "source": [
    "Year_factor <- as.factor(df_aov$Year)\n",
    "\n",
    "pdf(\"graphs\\\\box_aov.pdf\", width = 10, height = 6)\n",
    "boxplot(df_aov$Total_points~Year_factor,\n",
    "        main = 'Total de puntos por temporada de Los Angeles Lakers',\n",
    "        xlab = 'Año de inicio de temporada', \n",
    "        ylab = 'Total de puntos', \n",
    "        col=blues9)\n",
    "\n",
    "dev.off()"
   ]
  },
  {
   "cell_type": "markdown",
   "id": "f3ddcf1a-44da-46fc-96aa-c9caf8f16472",
   "metadata": {},
   "source": [
    "### Modelo"
   ]
  },
  {
   "cell_type": "code",
   "execution_count": 53,
   "id": "c59a193d-b537-4e09-9738-f6f1f2a53d71",
   "metadata": {},
   "outputs": [
    {
     "data": {
      "text/plain": [
       "             Df Sum Sq Mean Sq F value Pr(>F)  \n",
       "Year          2    915   457.5    3.23 0.0413 *\n",
       "Residuals   232  32864   141.7                 \n",
       "---\n",
       "Signif. codes:  0 '***' 0.001 '**' 0.01 '*' 0.05 '.' 0.1 ' ' 1"
      ]
     },
     "metadata": {},
     "output_type": "display_data"
    }
   ],
   "source": [
    "anova_ = aov(Total_points ~ Year, data=df_aov)\n",
    "summary(anova_)"
   ]
  },
  {
   "cell_type": "markdown",
   "id": "87e9f679-16a1-4689-879e-a338a5cf1544",
   "metadata": {},
   "source": [
    "### Residuales"
   ]
  },
  {
   "cell_type": "code",
   "execution_count": 95,
   "id": "2d0a905b-7e90-4160-8112-a91eb67c68a5",
   "metadata": {},
   "outputs": [],
   "source": [
    "e <- anova_$residuals\n",
    "\n",
    "# Crear un dataframe con los residuos\n",
    "data <- data.frame(Residuos = e)\n",
    "\n",
    "# Crear el gráfico de caja utilizando ggplot2\n",
    "p1 <- ggplot(data, aes(x = Residuos)) +\n",
    "  geom_boxplot(fill = \"#219C90\", lwd = 1.2) +\n",
    "  labs(\n",
    "    title = \"Boxplot de Residuos del Modelo ANOVA\",\n",
    "    y = \"\",\n",
    "    x = \"Residuos\"\n",
    "  ) +\n",
    " theme_minimal() + \n",
    "  theme(\n",
    "    plot.title = element_text(size = 17, face = \"bold\"),  # Tamaño del título en negrita\n",
    "    axis.title.y = element_blank(),\n",
    "    axis.title.x = element_text(size = 15, face = \"bold\"),  # Tamaño del título del eje Y en negrita\n",
    "    axis.text.y = element_blank(),\n",
    "    axis.text.x = element_text(size = 12, face = \"bold\")   # Tamaño y negrita de los ticks del eje Y\n",
    "  ) \n",
    "\n",
    "ggsave(\"graphs\\\\box_residuals.pdf\", plot = p1, device = \"pdf\",\n",
    "      width = 25, height = 10, units = \"cm\", dpi = 600)"
   ]
  },
  {
   "cell_type": "markdown",
   "id": "26d8d749-a900-401f-9abd-32ad47fb173b",
   "metadata": {},
   "source": [
    "#### Normalidad"
   ]
  },
  {
   "cell_type": "code",
   "execution_count": 55,
   "id": "9f71a77b-d9ce-4feb-bf39-7c2f59ccd1c3",
   "metadata": {},
   "outputs": [
    {
     "data": {
      "text/plain": [
       "\n",
       "\tShapiro-Wilk normality test\n",
       "\n",
       "data:  e\n",
       "W = 0.99497, p-value = 0.6328\n"
      ]
     },
     "metadata": {},
     "output_type": "display_data"
    }
   ],
   "source": [
    "shapiro.test(e)"
   ]
  },
  {
   "cell_type": "markdown",
   "id": "0d1ec8d5-1cf3-476a-9457-9d03e74b2e66",
   "metadata": {},
   "source": [
    "#### Homocedasticidad"
   ]
  },
  {
   "cell_type": "code",
   "execution_count": 58,
   "id": "00fb49f4-e329-4bd1-8484-490f71d3b087",
   "metadata": {},
   "outputs": [
    {
     "data": {
      "text/html": [
       "<table class=\"dataframe\">\n",
       "<caption>A anova: 2 × 3</caption>\n",
       "<thead>\n",
       "\t<tr><th></th><th scope=col>Df</th><th scope=col>F value</th><th scope=col>Pr(&gt;F)</th></tr>\n",
       "\t<tr><th></th><th scope=col>&lt;int&gt;</th><th scope=col>&lt;dbl&gt;</th><th scope=col>&lt;dbl&gt;</th></tr>\n",
       "</thead>\n",
       "<tbody>\n",
       "\t<tr><th scope=row>group</th><td>  2</td><td>0.7833182</td><td>0.458092</td></tr>\n",
       "\t<tr><th scope=row> </th><td>232</td><td>       NA</td><td>      NA</td></tr>\n",
       "</tbody>\n",
       "</table>\n"
      ],
      "text/latex": [
       "A anova: 2 × 3\n",
       "\\begin{tabular}{r|lll}\n",
       "  & Df & F value & Pr(>F)\\\\\n",
       "  & <int> & <dbl> & <dbl>\\\\\n",
       "\\hline\n",
       "\tgroup &   2 & 0.7833182 & 0.458092\\\\\n",
       "\t  & 232 &        NA &       NA\\\\\n",
       "\\end{tabular}\n"
      ],
      "text/markdown": [
       "\n",
       "A anova: 2 × 3\n",
       "\n",
       "| <!--/--> | Df &lt;int&gt; | F value &lt;dbl&gt; | Pr(&gt;F) &lt;dbl&gt; |\n",
       "|---|---|---|---|\n",
       "| group |   2 | 0.7833182 | 0.458092 |\n",
       "| <!----> | 232 |        NA |       NA |\n",
       "\n"
      ],
      "text/plain": [
       "      Df  F value   Pr(>F)  \n",
       "group   2 0.7833182 0.458092\n",
       "      232        NA       NA"
      ]
     },
     "metadata": {},
     "output_type": "display_data"
    }
   ],
   "source": [
    "library(car)\n",
    "leveneTest(e~Year, data = df_aov, center = \"median\")"
   ]
  },
  {
   "cell_type": "markdown",
   "id": "7788ded0-5de4-45b3-967d-9c2a9f577f95",
   "metadata": {},
   "source": [
    "### Post Anova"
   ]
  },
  {
   "cell_type": "code",
   "execution_count": 50,
   "id": "eaa6188f-6746-4b78-928a-775b25b962a2",
   "metadata": {},
   "outputs": [
    {
     "name": "stdout",
     "output_type": "stream",
     "text": [
      "\n",
      "Study: anova_ ~ \"Year\"\n",
      "\n",
      "HSD Test for Total_points \n",
      "\n",
      "Mean Square Error:  141.8818 \n",
      "\n",
      "Year,  means\n",
      "\n",
      "     Total_points      std  r       se Min Max  Q25  Q50 Q75\n",
      "2017     91.43902 11.99701 82 1.315395  65 118 85.0 90.5  99\n",
      "2018     95.47561 11.39658 82 1.315395  69 124 87.5 96.0 103\n",
      "2019     95.69014 12.35498 71 1.413625  67 124 87.0 98.0 105\n",
      "\n",
      "Alpha: 0.05 ; DF Error: 233 \n",
      "Critical Value of Studentized Range: 3.335833 \n",
      "\n",
      "Comparison between treatments means\n",
      "\n",
      "            difference pvalue signif.       LCL       UCL\n",
      "2017 - 2018 -4.0365854 0.0786       . -8.424525 0.3513542\n",
      "2017 - 2019 -4.2511165 0.0730       . -8.805842 0.3036088\n",
      "2018 - 2019 -0.2145311 0.9932         -4.769256 4.3401942\n"
     ]
    }
   ],
   "source": [
    "HSD.test(anova_,\"Year\",\n",
    "         alpha=0.05, console=TRUE, group=FALSE)"
   ]
  },
  {
   "cell_type": "code",
   "execution_count": null,
   "id": "d55627c2-925d-48c0-9004-dc191cae98b3",
   "metadata": {},
   "outputs": [],
   "source": []
  },
  {
   "cell_type": "code",
   "execution_count": null,
   "id": "ad8e91cc-5a49-427a-8de9-237d55607233",
   "metadata": {},
   "outputs": [],
   "source": []
  },
  {
   "cell_type": "code",
   "execution_count": null,
   "id": "d0076b80-2c66-4d94-a0fd-3fb6e03cc704",
   "metadata": {},
   "outputs": [],
   "source": []
  },
  {
   "cell_type": "code",
   "execution_count": null,
   "id": "0efefdfb-47d6-471a-859b-9cbb5fac2037",
   "metadata": {},
   "outputs": [],
   "source": []
  },
  {
   "cell_type": "code",
   "execution_count": null,
   "id": "c55cbccb-5884-48d0-a6c2-13ceb432c239",
   "metadata": {},
   "outputs": [],
   "source": [
    "separateDF_by_quarter <- function(df){\n",
    "    # Make first quarter dataframe\n",
    "    df_firstQ <- df %>%\n",
    "        filter(Time <= 720)\n",
    "    \n",
    "    # Make second quarter dataframe\n",
    "    df_secondQ <- df %>%\n",
    "        filter((Time > 720) & (Time <= 1440))\n",
    "    \n",
    "    # Make third quarter dataframe\n",
    "    df_thirdQ <- df %>%\n",
    "        filter((Time > 1440) & (Time <= 2160))\n",
    "    \n",
    "    # Make quarter quarter dataframe\n",
    "    df_quarterQ <- df %>%\n",
    "        filter((Time > 2160) & (Time <= 2880))\n",
    "    \n",
    "    # dataframes to return\n",
    "    return_ <- list(df_firstQ, df_secondQ, df_thirdQ, df_quarterQ)\n",
    "    \n",
    "    return (return_)\n",
    "}"
   ]
  },
  {
   "cell_type": "code",
   "execution_count": null,
   "id": "afe2bbe8-d551-4969-99f8-00f319c73928",
   "metadata": {},
   "outputs": [],
   "source": [
    "# Select all dataframes by quarter in each year\n",
    "df_means2017_byQ <- separateDF_by_quarter(df_means2017)\n",
    "df_means2018_byQ <- separateDF_by_quarter(df_means2018)\n",
    "df_means2019_byQ <- separateDF_by_quarter(df_means2019)\n",
    "\n",
    "# Make a single df from first Quarter in each year\n",
    "df_Q1 <- rbind(data.frame(df_means2017_byQ[1]), data.frame(df_means2018_byQ[1]))\n",
    "df_Q1 <- rbind(df_Q1, data.frame(df_means2019_byQ[1]))\n",
    "\n",
    "# Make a single df from second Quarter in each year\n",
    "df_Q2 <- rbind(data.frame(df_means2017_byQ[2]), data.frame(df_means2018_byQ[2]))\n",
    "df_Q2 <- rbind(df_Q2, data.frame(df_means2019_byQ[2]))\n",
    "\n",
    "# Make a single df from third Quarter in each year\n",
    "df_Q3 <- rbind(data.frame(df_means2017_byQ[3]), data.frame(df_means2018_byQ[3]))\n",
    "df_Q3 <- rbind(df_Q3, data.frame(df_means2019_byQ[3]))\n",
    "\n",
    "# Make a single df from quarter Quarter in each year\n",
    "df_Q4 <- rbind(data.frame(df_means2017_byQ[4]), data.frame(df_means2018_byQ[4]))\n",
    "df_Q4 <- rbind(df_Q4, data.frame(df_means2019_byQ[4]))\n"
   ]
  },
  {
   "cell_type": "code",
   "execution_count": null,
   "id": "6fff330d-c06d-42fe-8ae2-49553b4ebdaa",
   "metadata": {},
   "outputs": [],
   "source": []
  }
 ],
 "metadata": {
  "kernelspec": {
   "display_name": "R",
   "language": "R",
   "name": "ir"
  },
  "language_info": {
   "codemirror_mode": "r",
   "file_extension": ".r",
   "mimetype": "text/x-r-source",
   "name": "R",
   "pygments_lexer": "r",
   "version": "4.3.1"
  }
 },
 "nbformat": 4,
 "nbformat_minor": 5
}
