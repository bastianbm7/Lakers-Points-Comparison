{
 "cells": [
  {
   "cell_type": "markdown",
   "id": "61ffc79b-041c-4a47-b44e-cfda20c50533",
   "metadata": {},
   "source": [
    "## Read Libraries"
   ]
  },
  {
   "cell_type": "code",
   "execution_count": 74,
   "id": "5a694b42-e9a4-44d3-906d-631a3efb3497",
   "metadata": {},
   "outputs": [],
   "source": [
    "library(dplyr)\n",
    "library(tidyr)\n",
    "library(ggplot2)\n",
    "library(bfast)"
   ]
  },
  {
   "cell_type": "markdown",
   "id": "dc2211fd-44ad-461c-ba3a-a872a832eda3",
   "metadata": {},
   "source": [
    "## Read Data"
   ]
  },
  {
   "cell_type": "code",
   "execution_count": 2,
   "id": "5db60c54-3b27-4e64-9f17-6732a5a51822",
   "metadata": {},
   "outputs": [],
   "source": [
    "df2017 <- read.csv('data\\\\NBA_PBP_2017-18.csv')\n",
    "df2018 <- read.csv('data\\\\NBA_PBP_2018-19.csv')\n",
    "df2019 <- read.csv('data\\\\NBA_PBP_2019-20.csv')"
   ]
  },
  {
   "cell_type": "markdown",
   "id": "3248c960-5596-4036-bdd2-23638fd618cf",
   "metadata": {},
   "source": [
    "## Clean Data"
   ]
  },
  {
   "cell_type": "code",
   "execution_count": 3,
   "id": "c5015131-5c8f-4e95-8b34-46e27950a2f3",
   "metadata": {},
   "outputs": [],
   "source": [
    "# This function is used to clean the three df and leave \n",
    "# in a tidy format all data\n",
    "cleanData <- function(df, vars, year){\n",
    "    select_variables <- function(df, vars){\n",
    "    \n",
    "        # This function works to select all the data from lakers \n",
    "        # matchs, selecting by home or visit games.\n",
    "        \n",
    "        # Filter by variables\n",
    "        df <- df[vars]\n",
    "        \n",
    "        # Select just the data from Lakers\n",
    "        df <- df %>% \n",
    "            filter((HomeTeam == 'LAL') | (AwayTeam == 'LAL'))\n",
    "        \n",
    "        # Change values that are empty to NA in HomePlay and AwayPlay\n",
    "        df$HomePlay <- ifelse(df$HomePlay == \"\", NA, df$HomePlay)\n",
    "        df$AwayPlay <- ifelse(df$AwayPlay == \"\", NA, df$AwayPlay)\n",
    "        \n",
    "        # Use data from LAL and not from oppponent team\n",
    "        df <- df[!(df$HomeTeam == \"LAL\" & !is.na(df$AwayPlay)), ]\n",
    "        df <- df[!(df$AwayTeam == \"LAL\" & !is.na(df$HomePlay)), ]\n",
    "        \n",
    "        return (df)\n",
    "    }\n",
    "\n",
    "    make_shotDF <- function(df){\n",
    "        # Change values that are empty to NA in ShotType\n",
    "        df$ShotType <- ifelse(df$ShotType == \"\", NA, df$ShotType)\n",
    "        \n",
    "        # Leave just plays that are shot types\n",
    "        df <- df[complete.cases(df$ShotType), ]\n",
    "        \n",
    "        # Filter shots by make\n",
    "        df <- df %>% filter(ShotOutcome == 'make')\n",
    "        \n",
    "        # Separate ShotType to write the points and type of shot in different columns\n",
    "        df <- separate(df, ShotType, into = c(\"Points\", \"Type\"), sep = \"-pt \")\n",
    "        \n",
    "        return (df)\n",
    "    }\n",
    "    \n",
    "    add_range_timeLeft <- function(df){\n",
    "        # Crear un marco de datos que contenga todos los valores de time_left de 0 a 2880\n",
    "        all_time_left <- data.frame(Time_left = seq(0, 2880))\n",
    "        \n",
    "        # Realizar una unión (join) izquierda entre los datos originales y los valores completos de time_left\n",
    "        result_df <- left_join(all_time_left, df, by = \"Time_left\")\n",
    "        \n",
    "        # Llenar los valores faltantes en Points, ShotDist, Type, y URL\n",
    "        result_df$Points[is.na(result_df$Points)] <- 0\n",
    "        result_df$ShotDist[is.na(result_df$ShotDist)] <- NA\n",
    "        result_df$Type[is.na(result_df$Type)] <- NA\n",
    "        result_df$URL[is.na(result_df$URL)] <- \"/boxscores/201710190LAL.html\"\n",
    "        result_df$Team[is.na(result_df$Team)] <- \"LAL\"\n",
    "        result_df$Year[is.na(result_df$Year)] <- year\n",
    "        return(result_df)\n",
    "        \n",
    "    } \n",
    "    \n",
    "    # Filter by gametype because we are interested in regular games only \n",
    "    df <- df %>% filter(GameType == 'regular')\n",
    "    \n",
    "    # Select data to use\n",
    "    df <- select_variables(df, vars)\n",
    "    \n",
    "    # Leave all the data from Team in a single column\n",
    "    df <- df %>%\n",
    "        mutate(Team = ifelse(df$HomeTeam == \"LAL\", 'LAL', df$AwayTeam)) %>%\n",
    "        select(-HomeTeam, -AwayTeam, -HomePlay, -AwayPlay)\n",
    "    \n",
    "    df <- make_shotDF(df)\n",
    "    \n",
    "    # Make a variable with time left in the match in seconds\n",
    "    df$Time_left <- df$SecLeft * df$Quarter\n",
    "    \n",
    "    # Leave data in correct format\n",
    "    df$Points <- as.integer(df$Points)\n",
    "    \n",
    "    # Delete innecesary columns\n",
    "    df <- df %>% select(-Quarter, -SecLeft, -ShotOutcome)\n",
    "    \n",
    "    # Add year of the data\n",
    "    df$Year <- year\n",
    "    \n",
    "    # Leave df ordered by columns\n",
    "    vars_order <- c('Team', 'Year', 'URL', 'Time_left', 'Type', 'Points', 'ShotDist')\n",
    "    df <- df[vars_order]\n",
    "    \n",
    "    df <- add_range_timeLeft(df)\n",
    "    \n",
    "    return (df)   \n",
    "}"
   ]
  },
  {
   "cell_type": "code",
   "execution_count": 32,
   "id": "a852291c-2044-4ea1-8568-dae7d417145b",
   "metadata": {},
   "outputs": [
    {
     "name": "stderr",
     "output_type": "stream",
     "text": [
      "\u001b[1m\u001b[22m`summarise()` has grouped output by 'Year'. You can override using the\n",
      "`.groups` argument.\n",
      "\u001b[1m\u001b[22m`summarise()` has grouped output by 'Year'. You can override using the\n",
      "`.groups` argument.\n",
      "\u001b[1m\u001b[22m`summarise()` has grouped output by 'Year'. You can override using the\n",
      "`.groups` argument.\n"
     ]
    }
   ],
   "source": [
    "vars <- c('URL', 'Quarter', 'HomeTeam', 'AwayTeam', 'SecLeft', 'HomePlay', 'AwayPlay',  'ShotType', 'ShotOutcome', 'ShotDist')\n",
    "\n",
    "df_2017 <- cleanData(df2017, vars, 2017)\n",
    "df_2018 <- cleanData(df2018, vars, 2018)\n",
    "df_2019 <- cleanData(df2019, vars, 2019)"
   ]
  },
  {
   "cell_type": "markdown",
   "id": "145275f9-4ef9-457d-bf6d-3e0ab84e7d9f",
   "metadata": {},
   "source": [
    "## Preprocess data"
   ]
  },
  {
   "cell_type": "code",
   "execution_count": 86,
   "id": "1b472084-d04f-4630-b413-3512149559e8",
   "metadata": {},
   "outputs": [],
   "source": [
    "calculate_means <- function(df){\n",
    "    # Calculate mean of points and shot distance by year \n",
    "    # and each 10 seconds\n",
    "    df_means <- df %>%\n",
    "      group_by(Year, (Time_left %/% 10)) %>%\n",
    "      summarize(\n",
    "        Media_Points = mean(Points, na.rm = TRUE),\n",
    "        Media_ShotDist = mean(ShotDist, na.rm = TRUE)\n",
    "      ) %>% \n",
    "    arrange(desc(`(Time_left%/%10)`))\n",
    "    \n",
    "    # Write Time_left in 10 seconds interval\n",
    "    df_means$`(Time_left%/%10)` <- df_means$`(Time_left%/%10)` * 10\n",
    "    \n",
    "    # Rename Time_left column\n",
    "    df_means <- df_means %>% \n",
    "        rename(Time_left = `(Time_left%/%10)`)\n",
    "    \n",
    "    df_means <- df_means %>%\n",
    "        mutate(Time = 2880 - Time_left) %>%\n",
    "        select(-Time_left)\n",
    "    \n",
    "    return (df_means)\n",
    "}"
   ]
  },
  {
   "cell_type": "code",
   "execution_count": 87,
   "id": "b5feb99f-91dd-45b3-b15a-f694f24cd454",
   "metadata": {},
   "outputs": [
    {
     "name": "stderr",
     "output_type": "stream",
     "text": [
      "\u001b[1m\u001b[22m`summarise()` has grouped output by 'Year'. You can override using the\n",
      "`.groups` argument.\n",
      "\u001b[1m\u001b[22m`summarise()` has grouped output by 'Year'. You can override using the\n",
      "`.groups` argument.\n",
      "\u001b[1m\u001b[22m`summarise()` has grouped output by 'Year'. You can override using the\n",
      "`.groups` argument.\n"
     ]
    }
   ],
   "source": [
    "df_means2017 <- calculate_means(df_2017)\n",
    "df_means2018 <- calculate_means(df_2018)\n",
    "df_means2019 <- calculate_means(df_2019)"
   ]
  },
  {
   "cell_type": "code",
   "execution_count": 96,
   "id": "ed665471-31e9-4001-90a8-104a9567ab61",
   "metadata": {},
   "outputs": [
    {
     "data": {
      "image/png": "[encoded data removed]",
      "text/plain": [
       "Plot with title \"Media de puntos cada 10 segundos de Los\n",
       "Angeles Lakers en la temporada 2019-20\""
      ]
     },
     "metadata": {
      "image/png": {
       "height": 420,
       "width": 420
      }
     },
     "output_type": "display_data"
    }
   ],
   "source": [
    "# jpeg(\"graphs\\\\time_series.jpg\", width = 800, height = 500)\n",
    "\n",
    "# Grid of plots (3 rows with 1 column)\n",
    "par(mfrow = c(3, 1))\n",
    "\n",
    "# Graph 1: 2017-18 Season\n",
    "plot(df_means2017$Time, df_means2017$Media_Points, \n",
    "     type = \"l\", \n",
    "     main = \"Media de puntos cada 10 segundos de Los\\nAngeles Lakers en la temporada 2017-18\", \n",
    "     xlab = \"Tiempo (s)\", ylab = \"Media de puntos\")\n",
    "abline(v = c(720, 1440, 2160), col = \"red\", lwd = 2)\n",
    "\n",
    "# Graph 2: 2018-19 Season\n",
    "plot(df_means2018$Time, df_means2018$Media_Points, \n",
    "     type = \"l\", \n",
    "     main = \"Media de puntos cada 10 segundos de Los\\nAngeles Lakers en la temporada 2018-19\", \n",
    "     xlab = \"Tiempo (s)\", ylab = \"Media de puntos\")\n",
    "abline(v = c(720, 1440, 2160), col = \"red\", lwd = 2)\n",
    "\n",
    "# Graph 3: 2019-20 Season\n",
    "plot(df_means2019$Time, df_means2019$Media_Points, \n",
    "     type = \"l\", \n",
    "     main = \"Media de puntos cada 10 segundos de Los\\nAngeles Lakers en la temporada 2019-20\", \n",
    "     xlab = \"Tiempo (s)X\", ylab = \"Media de puntos\")\n",
    "abline(v = c(720, 1440, 2160), col = \"red\", lwd = 2)\n",
    "\n",
    "# dev.off()"
   ]
  },
  {
   "cell_type": "markdown",
   "id": "d15ffeba-69f7-4289-878f-21856b1c5b8a",
   "metadata": {},
   "source": [
    "## Time Series Analysis"
   ]
  },
  {
   "cell_type": "code",
   "execution_count": 93,
   "id": "32ba7f62-ba03-48ef-b317-868d6e4a9492",
   "metadata": {},
   "outputs": [
    {
     "data": {
      "image/png": "[encoded data removed]",
      "text/plain": [
       "plot without title"
      ]
     },
     "metadata": {
      "image/png": {
       "height": 420,
       "width": 420
      }
     },
     "output_type": "display_data"
    }
   ],
   "source": [
    "aao <- ts(df_means2017$Media_Points, frequency=10)\n",
    "\n",
    "fitt <- stl(aao, s.window=\"periodic\")\n",
    "plot(fitt)"
   ]
  },
  {
   "cell_type": "code",
   "execution_count": 94,
   "id": "b5717d65-6333-4a31-bb85-46f378b99a89",
   "metadata": {},
   "outputs": [
    {
     "data": {
      "text/plain": [
       "NULL"
      ]
     },
     "metadata": {},
     "output_type": "display_data"
    },
    {
     "data": {
      "image/png": "[encoded data removed]",
      "text/plain": [
       "plot without title"
      ]
     },
     "metadata": {
      "image/png": {
       "height": 420,
       "width": 420
      }
     },
     "output_type": "display_data"
    }
   ],
   "source": [
    "datats <- ts(rowSums(fitt$time.series))\n",
    "tsp(datats) <- tsp(fitt$time.series)\n",
    "\n",
    "fit1 <- bfast(datats, season=\"dummy\", max.iter=4)\n",
    "plot(fit1, main=\"\")"
   ]
  },
  {
   "cell_type": "code",
   "execution_count": 90,
   "id": "1fda846a-6bbe-4ddc-9781-ac9180a36512",
   "metadata": {},
   "outputs": [
    {
     "data": {
      "text/plain": [
       "\n",
       "  TREND BREAKPOINTS\n",
       "\t Confidence intervals for breakpoints\n",
       "\t of optimal 3-segment partition: \n",
       "\n",
       "Call:\n",
       "confint.breakpointsfull(object = bp.Vt, het.err = FALSE)\n",
       "\n",
       "Breakpoints at observation number:\n",
       "  2.5 % breakpoints 97.5 %\n",
       "1    71          74     82\n",
       "2   209         218    220\n",
       "\n",
       "Corresponding to breakdates:\n",
       "  2.5 % breakpoints 97.5 %\n",
       "1 8(1)  8(4)        9(2)  \n",
       "2 21(9) 22(8)       22(10)\n",
       "\n",
       "  SEASONAL BREAKPOINTS:  None\n"
      ]
     },
     "metadata": {},
     "output_type": "display_data"
    }
   ],
   "source": [
    "fit1"
   ]
  }
 ],
 "metadata": {
  "kernelspec": {
   "display_name": "R",
   "language": "R",
   "name": "ir"
  },
  "language_info": {
   "codemirror_mode": "r",
   "file_extension": ".r",
   "mimetype": "text/x-r-source",
   "name": "R",
   "pygments_lexer": "r",
   "version": "4.3.1"
  }
 },
 "nbformat": 4,
 "nbformat_minor": 5
}
