{
 "cells": [
  {
   "cell_type": "markdown",
   "id": "61ffc79b-041c-4a47-b44e-cfda20c50533",
   "metadata": {},
   "source": [
    "## Read Libraries"
   ]
  },
  {
   "cell_type": "code",
   "execution_count": 1,
   "id": "5a694b42-e9a4-44d3-906d-631a3efb3497",
   "metadata": {},
   "outputs": [
    {
     "name": "stderr",
     "output_type": "stream",
     "text": [
      "\n",
      "Attaching package: 'dplyr'\n",
      "\n",
      "\n",
      "The following objects are masked from 'package:stats':\n",
      "\n",
      "    filter, lag\n",
      "\n",
      "\n",
      "The following objects are masked from 'package:base':\n",
      "\n",
      "    intersect, setdiff, setequal, union\n",
      "\n",
      "\n",
      "Warning message:\n",
      "\"package 'bfast' was built under R version 4.3.2\"\n",
      "Loading required package: strucchangeRcpp\n",
      "\n",
      "Warning message:\n",
      "\"package 'strucchangeRcpp' was built under R version 4.3.2\"\n",
      "Loading required package: zoo\n",
      "\n",
      "\n",
      "Attaching package: 'zoo'\n",
      "\n",
      "\n",
      "The following objects are masked from 'package:base':\n",
      "\n",
      "    as.Date, as.Date.numeric\n",
      "\n",
      "\n",
      "Loading required package: sandwich\n",
      "\n",
      "Registered S3 method overwritten by 'quantmod':\n",
      "  method            from\n",
      "  as.zoo.data.frame zoo \n",
      "\n"
     ]
    }
   ],
   "source": [
    "library(dplyr)\n",
    "library(tidyr)\n",
    "library(ggplot2)\n",
    "library(bfast)"
   ]
  },
  {
   "cell_type": "markdown",
   "id": "dc2211fd-44ad-461c-ba3a-a872a832eda3",
   "metadata": {},
   "source": [
    "## Read Data"
   ]
  },
  {
   "cell_type": "code",
   "execution_count": 2,
   "id": "5db60c54-3b27-4e64-9f17-6732a5a51822",
   "metadata": {},
   "outputs": [],
   "source": [
    "df2017 <- read.csv('data\\\\NBA_PBP_2017-18.csv')\n",
    "df2018 <- read.csv('data\\\\NBA_PBP_2018-19.csv')\n",
    "df2019 <- read.csv('data\\\\NBA_PBP_2019-20.csv')"
   ]
  },
  {
   "cell_type": "markdown",
   "id": "3248c960-5596-4036-bdd2-23638fd618cf",
   "metadata": {},
   "source": [
    "## Clean Data"
   ]
  },
  {
   "cell_type": "code",
   "execution_count": 3,
   "id": "c5015131-5c8f-4e95-8b34-46e27950a2f3",
   "metadata": {},
   "outputs": [],
   "source": [
    "# This function is used to clean the three df and leave \n",
    "# in a tidy format all data\n",
    "cleanData <- function(df, vars, year){\n",
    "    select_variables <- function(df, vars){\n",
    "    \n",
    "        # This function works to select all the data from lakers \n",
    "        # matchs, selecting by home or visit games.\n",
    "        \n",
    "        # Filter by variables\n",
    "        df <- df[vars]\n",
    "        \n",
    "        # Select just the data from Lakers\n",
    "        df <- df %>% \n",
    "            filter((HomeTeam == 'LAL') | (AwayTeam == 'LAL'))\n",
    "        \n",
    "        # Change values that are empty to NA in HomePlay and AwayPlay\n",
    "        df$HomePlay <- ifelse(df$HomePlay == \"\", NA, df$HomePlay)\n",
    "        df$AwayPlay <- ifelse(df$AwayPlay == \"\", NA, df$AwayPlay)\n",
    "        \n",
    "        # Use data from LAL and not from oppponent team\n",
    "        df <- df[!(df$HomeTeam == \"LAL\" & !is.na(df$AwayPlay)), ]\n",
    "        df <- df[!(df$AwayTeam == \"LAL\" & !is.na(df$HomePlay)), ]\n",
    "        \n",
    "        return (df)\n",
    "    }\n",
    "\n",
    "    make_shotDF <- function(df){\n",
    "        # Change values that are empty to NA in ShotType\n",
    "        df$ShotType <- ifelse(df$ShotType == \"\", NA, df$ShotType)\n",
    "        \n",
    "        # Leave just plays that are shot types\n",
    "        df <- df[complete.cases(df$ShotType), ]\n",
    "        \n",
    "        # Filter shots by make\n",
    "        df <- df %>% filter(ShotOutcome == 'make')\n",
    "        \n",
    "        # Separate ShotType to write the points and type of shot in different columns\n",
    "        df <- separate(df, ShotType, into = c(\"Points\", \"Type\"), sep = \"-pt \")\n",
    "        \n",
    "        return (df)\n",
    "    }\n",
    "    \n",
    "    add_range_timeLeft <- function(df){\n",
    "        # Crear un marco de datos que contenga todos los valores de time_left de 0 a 2880\n",
    "        all_time_left <- data.frame(Time_left = seq(0, 2880))\n",
    "        \n",
    "        # Realizar una unión (join) izquierda entre los datos originales y los valores completos de time_left\n",
    "        result_df <- left_join(all_time_left, df, by = \"Time_left\")\n",
    "        \n",
    "        # Llenar los valores faltantes en Points, ShotDist, Type, y URL\n",
    "        result_df$Points[is.na(result_df$Points)] <- 0\n",
    "        result_df$ShotDist[is.na(result_df$ShotDist)] <- NA\n",
    "        result_df$Type[is.na(result_df$Type)] <- NA\n",
    "        result_df$URL[is.na(result_df$URL)] <- \"/boxscores/201710190LAL.html\"\n",
    "        result_df$Team[is.na(result_df$Team)] <- \"LAL\"\n",
    "        result_df$Year[is.na(result_df$Year)] <- year\n",
    "        return(result_df)\n",
    "        \n",
    "    } \n",
    "    \n",
    "    # Filter by gametype because we are interested in regular games only \n",
    "    df <- df %>% filter(GameType == 'regular')\n",
    "    \n",
    "    # Select data to use\n",
    "    df <- select_variables(df, vars)\n",
    "    \n",
    "    # Leave all the data from Team in a single column\n",
    "    df <- df %>%\n",
    "        mutate(Team = ifelse(df$HomeTeam == \"LAL\", 'LAL', df$AwayTeam)) %>%\n",
    "        select(-HomeTeam, -AwayTeam, -HomePlay, -AwayPlay)\n",
    "    \n",
    "    df <- make_shotDF(df)\n",
    "    \n",
    "    # Make a variable with time left in the match in seconds\n",
    "    df$Time_left <- df$SecLeft * df$Quarter\n",
    "    \n",
    "    # Leave data in correct format\n",
    "    df$Points <- as.integer(df$Points)\n",
    "    \n",
    "    # Delete innecesary columns\n",
    "    df <- df %>% select(-Quarter, -SecLeft, -ShotOutcome)\n",
    "    \n",
    "    # Add year of the data\n",
    "    df$Year <- year\n",
    "    \n",
    "    # Leave df ordered by columns\n",
    "    vars_order <- c('Team', 'Year', 'URL', 'Time_left', 'Type', 'Points', 'ShotDist')\n",
    "    df <- df[vars_order]\n",
    "    \n",
    "    df <- add_range_timeLeft(df)\n",
    "    \n",
    "    return (df)   \n",
    "}"
   ]
  },
  {
   "cell_type": "code",
   "execution_count": 4,
   "id": "a852291c-2044-4ea1-8568-dae7d417145b",
   "metadata": {},
   "outputs": [],
   "source": [
    "vars <- c('URL', 'Quarter', 'HomeTeam', 'AwayTeam', 'SecLeft', 'HomePlay', 'AwayPlay',  'ShotType', 'ShotOutcome', 'ShotDist')\n",
    "\n",
    "df_2017 <- cleanData(df2017, vars, 2017)\n",
    "df_2018 <- cleanData(df2018, vars, 2018)\n",
    "df_2019 <- cleanData(df2019, vars, 2019)"
   ]
  },
  {
   "cell_type": "markdown",
   "id": "145275f9-4ef9-457d-bf6d-3e0ab84e7d9f",
   "metadata": {},
   "source": [
    "## Preprocess data"
   ]
  },
  {
   "cell_type": "code",
   "execution_count": 5,
   "id": "1b472084-d04f-4630-b413-3512149559e8",
   "metadata": {},
   "outputs": [],
   "source": [
    "calculate_means <- function(df){\n",
    "    # Calculate mean of points and shot distance by year \n",
    "    # and each 10 seconds\n",
    "    df_means <- df %>%\n",
    "      group_by(Year, (Time_left %/% 10)) %>%\n",
    "      summarize(\n",
    "        Media_Points = mean(Points, na.rm = TRUE),\n",
    "        Media_ShotDist = mean(ShotDist, na.rm = TRUE)\n",
    "      ) %>% \n",
    "    arrange(desc(`(Time_left%/%10)`))\n",
    "    \n",
    "    # Write Time_left in 10 seconds interval\n",
    "    df_means$`(Time_left%/%10)` <- df_means$`(Time_left%/%10)` * 10\n",
    "    \n",
    "    # Rename Time_left column\n",
    "    df_means <- df_means %>% \n",
    "        rename(Time_left = `(Time_left%/%10)`)\n",
    "    \n",
    "    df_means <- df_means %>%\n",
    "        mutate(Time = 2880 - Time_left) %>%\n",
    "        select(-Time_left)\n",
    "    \n",
    "    return (df_means)\n",
    "}"
   ]
  },
  {
   "cell_type": "code",
   "execution_count": 6,
   "id": "b5feb99f-91dd-45b3-b15a-f694f24cd454",
   "metadata": {},
   "outputs": [
    {
     "name": "stderr",
     "output_type": "stream",
     "text": [
      "\u001b[1m\u001b[22m`summarise()` has grouped output by 'Year'. You can override using the\n",
      "`.groups` argument.\n",
      "\u001b[1m\u001b[22m`summarise()` has grouped output by 'Year'. You can override using the\n",
      "`.groups` argument.\n",
      "\u001b[1m\u001b[22m`summarise()` has grouped output by 'Year'. You can override using the\n",
      "`.groups` argument.\n"
     ]
    }
   ],
   "source": [
    "df_means2017 <- calculate_means(df_2017)\n",
    "df_means2018 <- calculate_means(df_2018)\n",
    "df_means2019 <- calculate_means(df_2019)"
   ]
  },
  {
   "cell_type": "code",
   "execution_count": 7,
   "id": "ed665471-31e9-4001-90a8-104a9567ab61",
   "metadata": {},
   "outputs": [
    {
     "data": {
      "image/png": "[encoded data removed]",
      "text/plain": [
       "Plot with title \"Media de puntos cada 10 segundos de Los\n",
       "Angeles Lakers en la temporada 2019-20\""
      ]
     },
     "metadata": {
      "image/png": {
       "height": 420,
       "width": 420
      }
     },
     "output_type": "display_data"
    }
   ],
   "source": [
    "# jpeg(\"graphs\\\\time_series.jpg\", width = 800, height = 500)\n",
    "\n",
    "# Grid of plots (3 rows with 1 column)\n",
    "par(mfrow = c(3, 1))\n",
    "\n",
    "# Graph 1: 2017-18 Season\n",
    "plot(df_means2017$Time, df_means2017$Media_Points, \n",
    "     type = \"l\", \n",
    "     main = \"Media de puntos cada 10 segundos de Los\\nAngeles Lakers en la temporada 2017-18\", \n",
    "     xlab = \"Tiempo (s)\", ylab = \"Media de puntos\")\n",
    "abline(v = c(720, 1440, 2160), col = \"red\", lwd = 2)\n",
    "\n",
    "# Graph 2: 2018-19 Season\n",
    "plot(df_means2018$Time, df_means2018$Media_Points, \n",
    "     type = \"l\", \n",
    "     main = \"Media de puntos cada 10 segundos de Los\\nAngeles Lakers en la temporada 2018-19\", \n",
    "     xlab = \"Tiempo (s)\", ylab = \"Media de puntos\")\n",
    "abline(v = c(720, 1440, 2160), col = \"red\", lwd = 2)\n",
    "\n",
    "# Graph 3: 2019-20 Season\n",
    "plot(df_means2019$Time, df_means2019$Media_Points, \n",
    "     type = \"l\", \n",
    "     main = \"Media de puntos cada 10 segundos de Los\\nAngeles Lakers en la temporada 2019-20\", \n",
    "     xlab = \"Tiempo (s)X\", ylab = \"Media de puntos\")\n",
    "abline(v = c(720, 1440, 2160), col = \"red\", lwd = 2)\n",
    "\n",
    "# dev.off()"
   ]
  },
  {
   "cell_type": "code",
   "execution_count": 188,
   "id": "e2cca780-bf03-4531-811d-9a51d90f9cd0",
   "metadata": {},
   "outputs": [
    {
     "data": {
      "text/html": [
       "<strong>png:</strong> 2"
      ],
      "text/latex": [
       "\\textbf{png:} 2"
      ],
      "text/markdown": [
       "**png:** 2"
      ],
      "text/plain": [
       "png \n",
       "  2 "
      ]
     },
     "metadata": {},
     "output_type": "display_data"
    }
   ],
   "source": [
    "jpeg(file=\"graphs\\\\time_series.jpeg\", width = 800, height = 500)\n",
    "\n",
    "# Definir el data frame para las líneas verticales\n",
    "vlines_data <- data.frame(xintercept = c(720, 1440, 2160, 2880),\n",
    "                          season = c(\"Fin de\\nCuarto 1\", \"Fin de\\nCuarto 2\", \"Fin de\\nCuarto 3\", \"Fin de\\nCuarto 4\"))\n",
    "\n",
    "colors = c('#219C90', \n",
    "           '#D83F31', \n",
    "           '#E9B824', \n",
    "           '#EE9322')\n",
    "\n",
    "# Crear los gráficos con las personalizaciones\n",
    "p1 <- ggplot(df_means2017, aes(x = Time, y = Media_Points)) +\n",
    "    geom_line() +\n",
    "    geom_vline(data = vlines_data, aes(xintercept = xintercept, color = season), \n",
    "               linetype = \"dashed\", \n",
    "               lwd = 1, \n",
    "               color = colors) +\n",
    "\n",
    "    labs(title = NULL, x = NULL, y = NULL) +\n",
    "    scale_x_continuous(breaks = seq(0, 3000, by = 180)) +\n",
    "    guides(color = FALSE) + \n",
    "    theme_minimal() +\n",
    "    theme(axis.text.x = element_blank(),  # Ángulo de las etiquetas x\n",
    "          axis.text.y = element_text(size = 10, face = \"bold\"))\n",
    "\n",
    "p2 <- ggplot(df_means2018, aes(x = Time, y = Media_Points)) +\n",
    "    geom_line() +\n",
    "    geom_vline(data = vlines_data, aes(xintercept = xintercept, color = season), \n",
    "               linetype = \"dashed\", \n",
    "               lwd = 1, \n",
    "               color = colors) +\n",
    "    labs(title = NULL, x = NULL, y = NULL) +\n",
    "    guides(color = FALSE) + \n",
    "    scale_x_continuous(breaks = seq(0, 3000, by = 180)) +\n",
    "    theme_minimal() +\n",
    "    theme(axis.text.x = element_blank(),  # Ángulo de las etiquetas x\n",
    "          axis.text.y = element_text(size = 10, face = \"bold\"))\n",
    "\n",
    "# Make graph in season 2019-20\n",
    "p3 <- ggplot(df_means2019, aes(x = Time, y = Media_Points)) +\n",
    "    geom_line() +\n",
    "    geom_vline(data = vlines_data, aes(xintercept = xintercept, color = season), \n",
    "               linetype = \"dashed\", \n",
    "               lwd = 1, \n",
    "               color = colors) +\n",
    "    labs(title = NULL, x = NULL, y = NULL) +\n",
    "    guides(color = FALSE) + \n",
    "    scale_x_continuous(breaks = seq(0, 3000, by = 180)) + \n",
    "    theme_minimal() +\n",
    "    theme(axis.text.x = element_text(size = 14, face = \"bold\", angle = 90, hjust = 1),  # Ángulo de las etiquetas x\n",
    "          axis.text.y = element_text(size = 10, face = \"bold\"))\n",
    "\n",
    "\n",
    "# Arrange the plots in a grid with custom margins\n",
    "grid.arrange(\n",
    "    p1, p2, p3,\n",
    "    ncol = 1,\n",
    "    heights = c(0.5, 0.5, 0.65),\n",
    "    \n",
    "    # Wirte left text\n",
    "    left = textGrob(\"Media de puntos\", rot = 90, \n",
    "                    gp = gpar(fontsize=20)),\n",
    "    \n",
    "    # Wirte bottom text\n",
    "    bottom = textGrob(\"Tiempo (s)\", gp=gpar(fontsize = 24)),\n",
    "    \n",
    "    # Wirte top text\n",
    "    top = textGrob(\"Media de puntos cada 10 segundos de\\nLos Angeles Lakers por temporada\\n\", rot = 0, \n",
    "                    gp = gpar(fontsize=20)), \n",
    "    \n",
    "    # Wirte right text\n",
    "    right = textGrob(\"Temporada\\n\", rot = 270, gp=gpar(fontsize = 24))\n",
    ")\n",
    "\n",
    "# Add labels in each quarter\n",
    "grid.text(\"Cuarto 1\", x = 0.19, y = 0.86, just = \"center\", rot = 0, gp = gpar(fontface = \"bold\", fontsize = 12, col=colors[1]))\n",
    "grid.text(\"Cuarto 2\", x = 0.39, y = 0.86, just = \"center\", rot = 0, gp = gpar(fontface = \"bold\", fontsize = 12, col=colors[2]))\n",
    "grid.text(\"Cuarto 3\", x = 0.59, y = 0.86, just = \"center\", rot = 0, gp = gpar(fontface = \"bold\", fontsize = 12, col=colors[3]))\n",
    "grid.text(\"Cuarto 4\", x = 0.78, y = 0.86, just = \"center\", rot = 0, gp = gpar(fontface = \"bold\", fontsize = 12, col=colors[4]))\n",
    "\n",
    "# Add labels in each season\n",
    "grid.text(\"2017 - 18\\n\\n\", x = 0.9, y = 0.72, just = \"center\", rot = 270, gp = gpar(fontface = \"bold\", col='#071952', fontsize = 13))\n",
    "grid.text(\"2018 - 19\\n\\n\", x = 0.9, y = 0.48, just = \"center\", rot = 270, gp = gpar(fontface = \"bold\", col='#071952', fontsize = 13))\n",
    "grid.text(\"2019 - 20\\n\\n\", x = 0.9, y = 0.22, just = \"center\", rot = 270, gp = gpar(fontface = \"bold\", col='#071952', fontsize = 13))\n",
    "\n",
    "dev.off()"
   ]
  },
  {
   "cell_type": "markdown",
   "id": "d15ffeba-69f7-4289-878f-21856b1c5b8a",
   "metadata": {},
   "source": [
    "## Time Series Analysis"
   ]
  },
  {
   "cell_type": "code",
   "execution_count": 290,
   "id": "10287a0b-55da-4538-8b07-3d21c3c671b5",
   "metadata": {},
   "outputs": [],
   "source": [
    "time_series_analysis <- function(df, freq = 6){\n",
    "    \n",
    "    # Use data as time series\n",
    "    serie <- ts(df$Media_Points, frequency=freq)\n",
    "    \n",
    "    # Descompose a time series into seasonal, trend and errors\n",
    "    descompose <- stl(serie, s.window='periodic')\n",
    "    \n",
    "    # Transform into time series object\n",
    "    datats <- ts(rowSums(descompose$time.series))\n",
    "    tsp(datats) <- tsp(descompose$time.series)\n",
    "    \n",
    "    #Break Detection in the Seasonal and Trend Component\n",
    "    breaks <- bfast(datats, season=\"dummy\", max.iter=10)\n",
    "    \n",
    "    # Data to return \n",
    "    return_ <- list(descompose, breaks)\n",
    "    return (return_)\n",
    "}\n",
    "\n",
    "ts_2017 <- time_series_analysis(df_means2017)\n",
    "descompose_2017 <- ts_2017[[1]]; breaks_2017 <- ts_2017[[2]]\n",
    "\n",
    "ts_2018 <- time_series_analysis(df_means2018)\n",
    "descompose_2018 <- ts_2018[[1]]; breaks_2018 <- ts_2018[[2]]\n",
    "\n",
    "ts_2019 <- time_series_analysis(df_means2019)\n",
    "descompose_2019 <- ts_2019[[1]]; breaks_2019 <- ts_2019[2]"
   ]
  },
  {
   "cell_type": "code",
   "execution_count": 291,
   "id": "92fbaa40-2f1b-4d82-bb61-54a5537dc98e",
   "metadata": {},
   "outputs": [
    {
     "data": {
      "image/png": "[encoded data removed]",
      "text/plain": [
       "plot without title"
      ]
     },
     "metadata": {
      "image/png": {
       "height": 420,
       "width": 420
      }
     },
     "output_type": "display_data"
    }
   ],
   "source": [
    "plot(descompose_2019)"
   ]
  },
  {
   "cell_type": "code",
   "execution_count": 219,
   "id": "32ba7f62-ba03-48ef-b317-868d6e4a9492",
   "metadata": {},
   "outputs": [
    {
     "name": "stdout",
     "output_type": "stream",
     "text": [
      "List of 8\n",
      " $ time.series: Time-Series [1:289, 1:3] from 1 to 25: 0.02666 -0.02699 0.07702 -0.00684 0.04863 ...\n",
      "  ..- attr(*, \"dimnames\")=List of 2\n",
      "  .. ..$ : NULL\n",
      "  .. ..$ : chr [1:3] \"seasonal\" \"trend\" \"remainder\"\n",
      " $ weights    : num [1:289] 1 1 1 1 1 1 1 1 1 1 ...\n",
      " $ call       : language stl(x = aao, s.window = \"periodic\")\n",
      " $ win        : Named num [1:3] 2891 19 13\n",
      "  ..- attr(*, \"names\")= chr [1:3] \"s\" \"t\" \"l\"\n",
      " $ deg        : Named int [1:3] 0 1 1\n",
      "  ..- attr(*, \"names\")= chr [1:3] \"s\" \"t\" \"l\"\n",
      " $ jump       : Named num [1:3] 290 2 2\n",
      "  ..- attr(*, \"names\")= chr [1:3] \"s\" \"t\" \"l\"\n",
      " $ inner      : int 2\n",
      " $ outer      : int 0\n",
      " - attr(*, \"class\")= chr \"stl\"\n"
     ]
    }
   ],
   "source": [
    "\n",
    "aao <- ts(df_means2017$Media_Points, frequency=12)\n",
    "\n",
    "fitt <- stl(aao, s.window=\"periodic\")\n",
    "str(fitt)\n",
    "#plot(fitt)"
   ]
  },
  {
   "cell_type": "code",
   "execution_count": 94,
   "id": "b5717d65-6333-4a31-bb85-46f378b99a89",
   "metadata": {},
   "outputs": [
    {
     "data": {
      "text/plain": [
       "NULL"
      ]
     },
     "metadata": {},
     "output_type": "display_data"
    },
    {
     "data": {
      "image/png": "[encoded data removed]",
      "text/plain": [
       "plot without title"
      ]
     },
     "metadata": {
      "image/png": {
       "height": 420,
       "width": 420
      }
     },
     "output_type": "display_data"
    }
   ],
   "source": [
    "datats <- ts(rowSums(fitt$time.series))\n",
    "tsp(datats) <- tsp(fitt$time.series)\n",
    "\n",
    "fit1 <- bfast(datats, season=\"dummy\", max.iter=4)\n",
    "plot(fit1, main=\"\")"
   ]
  },
  {
   "cell_type": "code",
   "execution_count": 90,
   "id": "1fda846a-6bbe-4ddc-9781-ac9180a36512",
   "metadata": {},
   "outputs": [
    {
     "data": {
      "text/plain": [
       "\n",
       "  TREND BREAKPOINTS\n",
       "\t Confidence intervals for breakpoints\n",
       "\t of optimal 3-segment partition: \n",
       "\n",
       "Call:\n",
       "confint.breakpointsfull(object = bp.Vt, het.err = FALSE)\n",
       "\n",
       "Breakpoints at observation number:\n",
       "  2.5 % breakpoints 97.5 %\n",
       "1    71          74     82\n",
       "2   209         218    220\n",
       "\n",
       "Corresponding to breakdates:\n",
       "  2.5 % breakpoints 97.5 %\n",
       "1 8(1)  8(4)        9(2)  \n",
       "2 21(9) 22(8)       22(10)\n",
       "\n",
       "  SEASONAL BREAKPOINTS:  None\n"
      ]
     },
     "metadata": {},
     "output_type": "display_data"
    }
   ],
   "source": [
    "fit1"
   ]
  },
  {
   "cell_type": "markdown",
   "id": "5b0eed86-45f3-40f8-afb3-4ba7617074fc",
   "metadata": {},
   "source": [
    "## ANOVA "
   ]
  },
  {
   "cell_type": "code",
   "execution_count": 240,
   "id": "c55cbccb-5884-48d0-a6c2-13ceb432c239",
   "metadata": {},
   "outputs": [],
   "source": [
    "separateDF_by_quarter <- function(df){\n",
    "    # Make first quarter dataframe\n",
    "    df_firstQ <- df %>%\n",
    "        filter(Time <= 720)\n",
    "    \n",
    "    # Make second quarter dataframe\n",
    "    df_secondQ <- df %>%\n",
    "        filter((Time > 720) & (Time <= 1440))\n",
    "    \n",
    "    # Make third quarter dataframe\n",
    "    df_thirdQ <- df %>%\n",
    "        filter((Time > 1440) & (Time <= 2160))\n",
    "    \n",
    "    # Make quarter quarter dataframe\n",
    "    df_quarterQ <- df %>%\n",
    "        filter((Time > 2160) & (Time <= 2880))\n",
    "    \n",
    "    # dataframes to return\n",
    "    return_ <- list(df_firstQ, df_secondQ, df_thirdQ, df_quarterQ)\n",
    "    \n",
    "    return (return_)\n",
    "}"
   ]
  },
  {
   "cell_type": "code",
   "execution_count": 252,
   "id": "afe2bbe8-d551-4969-99f8-00f319c73928",
   "metadata": {},
   "outputs": [],
   "source": [
    "# Select all dataframes by quarter in each year\n",
    "df_means2017_byQ <- separateDF_by_quarter(df_means2017)\n",
    "df_means2018_byQ <- separateDF_by_quarter(df_means2018)\n",
    "df_means2019_byQ <- separateDF_by_quarter(df_means2019)\n",
    "\n",
    "# Make a single df from first Quarter in each year\n",
    "df_Q1 <- rbind(data.frame(df_means2017_byQ[1]), data.frame(df_means2018_byQ[1]))\n",
    "df_Q1 <- rbind(df_Q1, data.frame(df_means2019_byQ[1]))\n",
    "\n",
    "# Make a single df from second Quarter in each year\n",
    "df_Q2 <- rbind(data.frame(df_means2017_byQ[2]), data.frame(df_means2018_byQ[2]))\n",
    "df_Q2 <- rbind(df_Q2, data.frame(df_means2019_byQ[2]))\n",
    "\n",
    "# Make a single df from third Quarter in each year\n",
    "df_Q3 <- rbind(data.frame(df_means2017_byQ[3]), data.frame(df_means2018_byQ[3]))\n",
    "df_Q3 <- rbind(df_Q3, data.frame(df_means2019_byQ[3]))\n",
    "\n",
    "# Make a single df from quarter Quarter in each year\n",
    "df_Q4 <- rbind(data.frame(df_means2017_byQ[4]), data.frame(df_means2018_byQ[4]))\n",
    "df_Q4 <- rbind(df_Q4, data.frame(df_means2019_byQ[4]))\n"
   ]
  },
  {
   "cell_type": "code",
   "execution_count": 254,
   "id": "2b7d8c44-a888-47e3-9b0e-4b22330fe5b7",
   "metadata": {},
   "outputs": [],
   "source": [
    "Year_factor <- as.factor(df_Q1$Year)"
   ]
  },
  {
   "cell_type": "code",
   "execution_count": 256,
   "id": "4f9ef7b3-282c-4471-a587-8b4502317dec",
   "metadata": {},
   "outputs": [
    {
     "data": {
      "image/png": "[encoded data removed]",
      "text/plain": [
       "plot without title"
      ]
     },
     "metadata": {
      "image/png": {
       "height": 420,
       "width": 420
      }
     },
     "output_type": "display_data"
    }
   ],
   "source": [
    "par(mfrow=c(2,2))\n",
    "boxplot(df_Q1$Media_Points~as.factor(df_Q1$Year), col=blues9)\n",
    "boxplot(df_Q2$Media_Points~as.factor(df_Q2$Year), col=blues9)\n",
    "boxplot(df_Q3$Media_Points~as.factor(df_Q3$Year), col=blues9)\n",
    "boxplot(df_Q4$Media_Points~as.factor(df_Q4$Year), col=blues9)"
   ]
  },
  {
   "cell_type": "code",
   "execution_count": 253,
   "id": "652447cb-2e5a-43bb-b8cd-eb191ddc677c",
   "metadata": {},
   "outputs": [
    {
     "data": {
      "text/html": [
       "<table class=\"dataframe\">\n",
       "<caption>A data.frame: 219 × 4</caption>\n",
       "<thead>\n",
       "\t<tr><th scope=col>Year</th><th scope=col>Media_Points</th><th scope=col>Media_ShotDist</th><th scope=col>Time</th></tr>\n",
       "\t<tr><th scope=col>&lt;dbl&gt;</th><th scope=col>&lt;dbl&gt;</th><th scope=col>&lt;dbl&gt;</th><th scope=col>&lt;dbl&gt;</th></tr>\n",
       "</thead>\n",
       "<tbody>\n",
       "\t<tr><td>2017</td><td>0.0000000</td><td>      NaN</td><td>  0</td></tr>\n",
       "\t<tr><td>2017</td><td>0.0000000</td><td>      NaN</td><td> 10</td></tr>\n",
       "\t<tr><td>2017</td><td>0.0000000</td><td>      NaN</td><td> 20</td></tr>\n",
       "\t<tr><td>2017</td><td>0.0000000</td><td>      NaN</td><td> 30</td></tr>\n",
       "\t<tr><td>2017</td><td>0.2000000</td><td>19.000000</td><td> 40</td></tr>\n",
       "\t<tr><td>2017</td><td>0.0000000</td><td>      NaN</td><td> 50</td></tr>\n",
       "\t<tr><td>2017</td><td>1.2941176</td><td> 9.000000</td><td> 60</td></tr>\n",
       "\t<tr><td>2017</td><td>0.6666667</td><td> 7.000000</td><td> 70</td></tr>\n",
       "\t<tr><td>2017</td><td>0.4000000</td><td> 3.000000</td><td> 80</td></tr>\n",
       "\t<tr><td>2017</td><td>0.2000000</td><td> 1.000000</td><td> 90</td></tr>\n",
       "\t<tr><td>2017</td><td>0.3636364</td><td> 1.000000</td><td>100</td></tr>\n",
       "\t<tr><td>2017</td><td>0.4000000</td><td>12.000000</td><td>110</td></tr>\n",
       "\t<tr><td>2017</td><td>0.0000000</td><td>      NaN</td><td>120</td></tr>\n",
       "\t<tr><td>2017</td><td>0.4545455</td><td>12.500000</td><td>130</td></tr>\n",
       "\t<tr><td>2017</td><td>0.6666667</td><td> 3.000000</td><td>140</td></tr>\n",
       "\t<tr><td>2017</td><td>0.3000000</td><td>25.000000</td><td>150</td></tr>\n",
       "\t<tr><td>2017</td><td>1.0000000</td><td>13.571429</td><td>160</td></tr>\n",
       "\t<tr><td>2017</td><td>0.6666667</td><td> 1.000000</td><td>170</td></tr>\n",
       "\t<tr><td>2017</td><td>0.4545455</td><td>21.000000</td><td>180</td></tr>\n",
       "\t<tr><td>2017</td><td>0.5454545</td><td> 6.333333</td><td>190</td></tr>\n",
       "\t<tr><td>2017</td><td>0.4000000</td><td> 2.500000</td><td>200</td></tr>\n",
       "\t<tr><td>2017</td><td>0.2000000</td><td>16.000000</td><td>210</td></tr>\n",
       "\t<tr><td>2017</td><td>0.6000000</td><td> 7.333333</td><td>220</td></tr>\n",
       "\t<tr><td>2017</td><td>0.0000000</td><td>      NaN</td><td>230</td></tr>\n",
       "\t<tr><td>2017</td><td>0.5000000</td><td>13.500000</td><td>240</td></tr>\n",
       "\t<tr><td>2017</td><td>0.2000000</td><td> 9.000000</td><td>250</td></tr>\n",
       "\t<tr><td>2017</td><td>0.6363636</td><td> 9.666667</td><td>260</td></tr>\n",
       "\t<tr><td>2017</td><td>0.2000000</td><td>19.000000</td><td>270</td></tr>\n",
       "\t<tr><td>2017</td><td>0.5454545</td><td> 6.333333</td><td>280</td></tr>\n",
       "\t<tr><td>2017</td><td>0.2000000</td><td> 2.000000</td><td>290</td></tr>\n",
       "\t<tr><td>⋮</td><td>⋮</td><td>⋮</td><td>⋮</td></tr>\n",
       "\t<tr><td>2019</td><td>0.0000000</td><td>      NaN</td><td>430</td></tr>\n",
       "\t<tr><td>2019</td><td>0.7000000</td><td>10.666667</td><td>440</td></tr>\n",
       "\t<tr><td>2019</td><td>0.5454545</td><td> 7.333333</td><td>450</td></tr>\n",
       "\t<tr><td>2019</td><td>1.1428571</td><td> 9.142857</td><td>460</td></tr>\n",
       "\t<tr><td>2019</td><td>0.5833333</td><td>15.000000</td><td>470</td></tr>\n",
       "\t<tr><td>2019</td><td>0.3000000</td><td>24.000000</td><td>480</td></tr>\n",
       "\t<tr><td>2019</td><td>0.2000000</td><td> 1.000000</td><td>490</td></tr>\n",
       "\t<tr><td>2019</td><td>0.5454545</td><td> 3.666667</td><td>500</td></tr>\n",
       "\t<tr><td>2019</td><td>0.5000000</td><td>14.000000</td><td>510</td></tr>\n",
       "\t<tr><td>2019</td><td>0.4545455</td><td>13.500000</td><td>520</td></tr>\n",
       "\t<tr><td>2019</td><td>0.6000000</td><td>26.000000</td><td>530</td></tr>\n",
       "\t<tr><td>2019</td><td>0.2000000</td><td>21.000000</td><td>540</td></tr>\n",
       "\t<tr><td>2019</td><td>0.0000000</td><td>      NaN</td><td>550</td></tr>\n",
       "\t<tr><td>2019</td><td>0.9230769</td><td>15.200000</td><td>560</td></tr>\n",
       "\t<tr><td>2019</td><td>0.2000000</td><td> 8.000000</td><td>570</td></tr>\n",
       "\t<tr><td>2019</td><td>0.3636364</td><td> 1.000000</td><td>580</td></tr>\n",
       "\t<tr><td>2019</td><td>0.6363636</td><td>17.000000</td><td>590</td></tr>\n",
       "\t<tr><td>2019</td><td>0.5454545</td><td> 7.666667</td><td>600</td></tr>\n",
       "\t<tr><td>2019</td><td>0.5000000</td><td>13.500000</td><td>610</td></tr>\n",
       "\t<tr><td>2019</td><td>0.5833333</td><td>10.000000</td><td>620</td></tr>\n",
       "\t<tr><td>2019</td><td>0.8333333</td><td>14.000000</td><td>630</td></tr>\n",
       "\t<tr><td>2019</td><td>0.7272727</td><td>18.333333</td><td>640</td></tr>\n",
       "\t<tr><td>2019</td><td>0.6363636</td><td>15.666667</td><td>650</td></tr>\n",
       "\t<tr><td>2019</td><td>0.0000000</td><td>      NaN</td><td>660</td></tr>\n",
       "\t<tr><td>2019</td><td>0.0000000</td><td>      NaN</td><td>670</td></tr>\n",
       "\t<tr><td>2019</td><td>1.0714286</td><td> 6.857143</td><td>680</td></tr>\n",
       "\t<tr><td>2019</td><td>0.3000000</td><td>27.000000</td><td>690</td></tr>\n",
       "\t<tr><td>2019</td><td>0.5000000</td><td>12.000000</td><td>700</td></tr>\n",
       "\t<tr><td>2019</td><td>0.5000000</td><td>14.000000</td><td>710</td></tr>\n",
       "\t<tr><td>2019</td><td>0.5454545</td><td> 3.333333</td><td>720</td></tr>\n",
       "</tbody>\n",
       "</table>\n"
      ],
      "text/latex": [
       "A data.frame: 219 × 4\n",
       "\\begin{tabular}{llll}\n",
       " Year & Media\\_Points & Media\\_ShotDist & Time\\\\\n",
       " <dbl> & <dbl> & <dbl> & <dbl>\\\\\n",
       "\\hline\n",
       "\t 2017 & 0.0000000 &       NaN &   0\\\\\n",
       "\t 2017 & 0.0000000 &       NaN &  10\\\\\n",
       "\t 2017 & 0.0000000 &       NaN &  20\\\\\n",
       "\t 2017 & 0.0000000 &       NaN &  30\\\\\n",
       "\t 2017 & 0.2000000 & 19.000000 &  40\\\\\n",
       "\t 2017 & 0.0000000 &       NaN &  50\\\\\n",
       "\t 2017 & 1.2941176 &  9.000000 &  60\\\\\n",
       "\t 2017 & 0.6666667 &  7.000000 &  70\\\\\n",
       "\t 2017 & 0.4000000 &  3.000000 &  80\\\\\n",
       "\t 2017 & 0.2000000 &  1.000000 &  90\\\\\n",
       "\t 2017 & 0.3636364 &  1.000000 & 100\\\\\n",
       "\t 2017 & 0.4000000 & 12.000000 & 110\\\\\n",
       "\t 2017 & 0.0000000 &       NaN & 120\\\\\n",
       "\t 2017 & 0.4545455 & 12.500000 & 130\\\\\n",
       "\t 2017 & 0.6666667 &  3.000000 & 140\\\\\n",
       "\t 2017 & 0.3000000 & 25.000000 & 150\\\\\n",
       "\t 2017 & 1.0000000 & 13.571429 & 160\\\\\n",
       "\t 2017 & 0.6666667 &  1.000000 & 170\\\\\n",
       "\t 2017 & 0.4545455 & 21.000000 & 180\\\\\n",
       "\t 2017 & 0.5454545 &  6.333333 & 190\\\\\n",
       "\t 2017 & 0.4000000 &  2.500000 & 200\\\\\n",
       "\t 2017 & 0.2000000 & 16.000000 & 210\\\\\n",
       "\t 2017 & 0.6000000 &  7.333333 & 220\\\\\n",
       "\t 2017 & 0.0000000 &       NaN & 230\\\\\n",
       "\t 2017 & 0.5000000 & 13.500000 & 240\\\\\n",
       "\t 2017 & 0.2000000 &  9.000000 & 250\\\\\n",
       "\t 2017 & 0.6363636 &  9.666667 & 260\\\\\n",
       "\t 2017 & 0.2000000 & 19.000000 & 270\\\\\n",
       "\t 2017 & 0.5454545 &  6.333333 & 280\\\\\n",
       "\t 2017 & 0.2000000 &  2.000000 & 290\\\\\n",
       "\t ⋮ & ⋮ & ⋮ & ⋮\\\\\n",
       "\t 2019 & 0.0000000 &       NaN & 430\\\\\n",
       "\t 2019 & 0.7000000 & 10.666667 & 440\\\\\n",
       "\t 2019 & 0.5454545 &  7.333333 & 450\\\\\n",
       "\t 2019 & 1.1428571 &  9.142857 & 460\\\\\n",
       "\t 2019 & 0.5833333 & 15.000000 & 470\\\\\n",
       "\t 2019 & 0.3000000 & 24.000000 & 480\\\\\n",
       "\t 2019 & 0.2000000 &  1.000000 & 490\\\\\n",
       "\t 2019 & 0.5454545 &  3.666667 & 500\\\\\n",
       "\t 2019 & 0.5000000 & 14.000000 & 510\\\\\n",
       "\t 2019 & 0.4545455 & 13.500000 & 520\\\\\n",
       "\t 2019 & 0.6000000 & 26.000000 & 530\\\\\n",
       "\t 2019 & 0.2000000 & 21.000000 & 540\\\\\n",
       "\t 2019 & 0.0000000 &       NaN & 550\\\\\n",
       "\t 2019 & 0.9230769 & 15.200000 & 560\\\\\n",
       "\t 2019 & 0.2000000 &  8.000000 & 570\\\\\n",
       "\t 2019 & 0.3636364 &  1.000000 & 580\\\\\n",
       "\t 2019 & 0.6363636 & 17.000000 & 590\\\\\n",
       "\t 2019 & 0.5454545 &  7.666667 & 600\\\\\n",
       "\t 2019 & 0.5000000 & 13.500000 & 610\\\\\n",
       "\t 2019 & 0.5833333 & 10.000000 & 620\\\\\n",
       "\t 2019 & 0.8333333 & 14.000000 & 630\\\\\n",
       "\t 2019 & 0.7272727 & 18.333333 & 640\\\\\n",
       "\t 2019 & 0.6363636 & 15.666667 & 650\\\\\n",
       "\t 2019 & 0.0000000 &       NaN & 660\\\\\n",
       "\t 2019 & 0.0000000 &       NaN & 670\\\\\n",
       "\t 2019 & 1.0714286 &  6.857143 & 680\\\\\n",
       "\t 2019 & 0.3000000 & 27.000000 & 690\\\\\n",
       "\t 2019 & 0.5000000 & 12.000000 & 700\\\\\n",
       "\t 2019 & 0.5000000 & 14.000000 & 710\\\\\n",
       "\t 2019 & 0.5454545 &  3.333333 & 720\\\\\n",
       "\\end{tabular}\n"
      ],
      "text/markdown": [
       "\n",
       "A data.frame: 219 × 4\n",
       "\n",
       "| Year &lt;dbl&gt; | Media_Points &lt;dbl&gt; | Media_ShotDist &lt;dbl&gt; | Time &lt;dbl&gt; |\n",
       "|---|---|---|---|\n",
       "| 2017 | 0.0000000 |       NaN |   0 |\n",
       "| 2017 | 0.0000000 |       NaN |  10 |\n",
       "| 2017 | 0.0000000 |       NaN |  20 |\n",
       "| 2017 | 0.0000000 |       NaN |  30 |\n",
       "| 2017 | 0.2000000 | 19.000000 |  40 |\n",
       "| 2017 | 0.0000000 |       NaN |  50 |\n",
       "| 2017 | 1.2941176 |  9.000000 |  60 |\n",
       "| 2017 | 0.6666667 |  7.000000 |  70 |\n",
       "| 2017 | 0.4000000 |  3.000000 |  80 |\n",
       "| 2017 | 0.2000000 |  1.000000 |  90 |\n",
       "| 2017 | 0.3636364 |  1.000000 | 100 |\n",
       "| 2017 | 0.4000000 | 12.000000 | 110 |\n",
       "| 2017 | 0.0000000 |       NaN | 120 |\n",
       "| 2017 | 0.4545455 | 12.500000 | 130 |\n",
       "| 2017 | 0.6666667 |  3.000000 | 140 |\n",
       "| 2017 | 0.3000000 | 25.000000 | 150 |\n",
       "| 2017 | 1.0000000 | 13.571429 | 160 |\n",
       "| 2017 | 0.6666667 |  1.000000 | 170 |\n",
       "| 2017 | 0.4545455 | 21.000000 | 180 |\n",
       "| 2017 | 0.5454545 |  6.333333 | 190 |\n",
       "| 2017 | 0.4000000 |  2.500000 | 200 |\n",
       "| 2017 | 0.2000000 | 16.000000 | 210 |\n",
       "| 2017 | 0.6000000 |  7.333333 | 220 |\n",
       "| 2017 | 0.0000000 |       NaN | 230 |\n",
       "| 2017 | 0.5000000 | 13.500000 | 240 |\n",
       "| 2017 | 0.2000000 |  9.000000 | 250 |\n",
       "| 2017 | 0.6363636 |  9.666667 | 260 |\n",
       "| 2017 | 0.2000000 | 19.000000 | 270 |\n",
       "| 2017 | 0.5454545 |  6.333333 | 280 |\n",
       "| 2017 | 0.2000000 |  2.000000 | 290 |\n",
       "| ⋮ | ⋮ | ⋮ | ⋮ |\n",
       "| 2019 | 0.0000000 |       NaN | 430 |\n",
       "| 2019 | 0.7000000 | 10.666667 | 440 |\n",
       "| 2019 | 0.5454545 |  7.333333 | 450 |\n",
       "| 2019 | 1.1428571 |  9.142857 | 460 |\n",
       "| 2019 | 0.5833333 | 15.000000 | 470 |\n",
       "| 2019 | 0.3000000 | 24.000000 | 480 |\n",
       "| 2019 | 0.2000000 |  1.000000 | 490 |\n",
       "| 2019 | 0.5454545 |  3.666667 | 500 |\n",
       "| 2019 | 0.5000000 | 14.000000 | 510 |\n",
       "| 2019 | 0.4545455 | 13.500000 | 520 |\n",
       "| 2019 | 0.6000000 | 26.000000 | 530 |\n",
       "| 2019 | 0.2000000 | 21.000000 | 540 |\n",
       "| 2019 | 0.0000000 |       NaN | 550 |\n",
       "| 2019 | 0.9230769 | 15.200000 | 560 |\n",
       "| 2019 | 0.2000000 |  8.000000 | 570 |\n",
       "| 2019 | 0.3636364 |  1.000000 | 580 |\n",
       "| 2019 | 0.6363636 | 17.000000 | 590 |\n",
       "| 2019 | 0.5454545 |  7.666667 | 600 |\n",
       "| 2019 | 0.5000000 | 13.500000 | 610 |\n",
       "| 2019 | 0.5833333 | 10.000000 | 620 |\n",
       "| 2019 | 0.8333333 | 14.000000 | 630 |\n",
       "| 2019 | 0.7272727 | 18.333333 | 640 |\n",
       "| 2019 | 0.6363636 | 15.666667 | 650 |\n",
       "| 2019 | 0.0000000 |       NaN | 660 |\n",
       "| 2019 | 0.0000000 |       NaN | 670 |\n",
       "| 2019 | 1.0714286 |  6.857143 | 680 |\n",
       "| 2019 | 0.3000000 | 27.000000 | 690 |\n",
       "| 2019 | 0.5000000 | 12.000000 | 700 |\n",
       "| 2019 | 0.5000000 | 14.000000 | 710 |\n",
       "| 2019 | 0.5454545 |  3.333333 | 720 |\n",
       "\n"
      ],
      "text/plain": [
       "    Year Media_Points Media_ShotDist Time\n",
       "1   2017 0.0000000          NaN        0 \n",
       "2   2017 0.0000000          NaN       10 \n",
       "3   2017 0.0000000          NaN       20 \n",
       "4   2017 0.0000000          NaN       30 \n",
       "5   2017 0.2000000    19.000000       40 \n",
       "6   2017 0.0000000          NaN       50 \n",
       "7   2017 1.2941176     9.000000       60 \n",
       "8   2017 0.6666667     7.000000       70 \n",
       "9   2017 0.4000000     3.000000       80 \n",
       "10  2017 0.2000000     1.000000       90 \n",
       "11  2017 0.3636364     1.000000      100 \n",
       "12  2017 0.4000000    12.000000      110 \n",
       "13  2017 0.0000000          NaN      120 \n",
       "14  2017 0.4545455    12.500000      130 \n",
       "15  2017 0.6666667     3.000000      140 \n",
       "16  2017 0.3000000    25.000000      150 \n",
       "17  2017 1.0000000    13.571429      160 \n",
       "18  2017 0.6666667     1.000000      170 \n",
       "19  2017 0.4545455    21.000000      180 \n",
       "20  2017 0.5454545     6.333333      190 \n",
       "21  2017 0.4000000     2.500000      200 \n",
       "22  2017 0.2000000    16.000000      210 \n",
       "23  2017 0.6000000     7.333333      220 \n",
       "24  2017 0.0000000          NaN      230 \n",
       "25  2017 0.5000000    13.500000      240 \n",
       "26  2017 0.2000000     9.000000      250 \n",
       "27  2017 0.6363636     9.666667      260 \n",
       "28  2017 0.2000000    19.000000      270 \n",
       "29  2017 0.5454545     6.333333      280 \n",
       "30  2017 0.2000000     2.000000      290 \n",
       "⋮   ⋮    ⋮            ⋮              ⋮   \n",
       "190 2019 0.0000000          NaN      430 \n",
       "191 2019 0.7000000    10.666667      440 \n",
       "192 2019 0.5454545     7.333333      450 \n",
       "193 2019 1.1428571     9.142857      460 \n",
       "194 2019 0.5833333    15.000000      470 \n",
       "195 2019 0.3000000    24.000000      480 \n",
       "196 2019 0.2000000     1.000000      490 \n",
       "197 2019 0.5454545     3.666667      500 \n",
       "198 2019 0.5000000    14.000000      510 \n",
       "199 2019 0.4545455    13.500000      520 \n",
       "200 2019 0.6000000    26.000000      530 \n",
       "201 2019 0.2000000    21.000000      540 \n",
       "202 2019 0.0000000          NaN      550 \n",
       "203 2019 0.9230769    15.200000      560 \n",
       "204 2019 0.2000000     8.000000      570 \n",
       "205 2019 0.3636364     1.000000      580 \n",
       "206 2019 0.6363636    17.000000      590 \n",
       "207 2019 0.5454545     7.666667      600 \n",
       "208 2019 0.5000000    13.500000      610 \n",
       "209 2019 0.5833333    10.000000      620 \n",
       "210 2019 0.8333333    14.000000      630 \n",
       "211 2019 0.7272727    18.333333      640 \n",
       "212 2019 0.6363636    15.666667      650 \n",
       "213 2019 0.0000000          NaN      660 \n",
       "214 2019 0.0000000          NaN      670 \n",
       "215 2019 1.0714286     6.857143      680 \n",
       "216 2019 0.3000000    27.000000      690 \n",
       "217 2019 0.5000000    12.000000      700 \n",
       "218 2019 0.5000000    14.000000      710 \n",
       "219 2019 0.5454545     3.333333      720 "
      ]
     },
     "metadata": {},
     "output_type": "display_data"
    }
   ],
   "source": [
    "df_Q1"
   ]
  },
  {
   "cell_type": "code",
   "execution_count": null,
   "id": "a7fe6a79-08ad-4eb3-b641-8b3cf7422b4b",
   "metadata": {},
   "outputs": [],
   "source": [
    "boxplot(Energia~Temperatura,col=blues9)"
   ]
  },
  {
   "cell_type": "code",
   "execution_count": null,
   "id": "6fff330d-c06d-42fe-8ae2-49553b4ebdaa",
   "metadata": {},
   "outputs": [],
   "source": []
  }
 ],
 "metadata": {
  "kernelspec": {
   "display_name": "R",
   "language": "R",
   "name": "ir"
  },
  "language_info": {
   "codemirror_mode": "r",
   "file_extension": ".r",
   "mimetype": "text/x-r-source",
   "name": "R",
   "pygments_lexer": "r",
   "version": "4.3.1"
  }
 },
 "nbformat": 4,
 "nbformat_minor": 5
}
